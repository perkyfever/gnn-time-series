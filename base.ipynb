{
 "cells": [
  {
   "cell_type": "code",
   "execution_count": 2,
   "metadata": {},
   "outputs": [],
   "source": [
    "import os\n",
    "\n",
    "import pandas as pd\n",
    "import numpy as np\n",
    "\n",
    "import seaborn as sns\n",
    "import matplotlib.pyplot as plt\n",
    "\n",
    "from pathlib import Path\n",
    "from torch.utils.data import Dataset"
   ]
  },
  {
   "cell_type": "code",
   "execution_count": 6,
   "metadata": {},
   "outputs": [],
   "source": [
    "path = Path(os.getcwd()) / \"datasets\" / \"traffic.txt\""
   ]
  },
  {
   "cell_type": "code",
   "execution_count": 7,
   "metadata": {},
   "outputs": [],
   "source": [
    "def read_tsf_file(file_path):\n",
    "    with open(file_path, \"r\") as f:\n",
    "        metadata = {}\n",
    "        series_list = []\n",
    "\n",
    "        # Skip metadata header\n",
    "        for line in f:\n",
    "            line = line.strip()\n",
    "            if line.startswith(\"@\"):\n",
    "                key, value = line[1:].split(\" \", 1)\n",
    "                metadata[key.lower()] = value\n",
    "            elif line:\n",
    "                # Time series line: [metadata, ..., \"series\"]\n",
    "                parts = line.split(\":\")\n",
    "                series = parts[-1].strip()\n",
    "                values = [float(x) if x != \"?\" else np.nan for x in series.split(\",\")]\n",
    "                series_list.append(values)\n",
    "        \n",
    "    return metadata, series_list"
   ]
  },
  {
   "cell_type": "code",
   "execution_count": 9,
   "metadata": {},
   "outputs": [],
   "source": [
    "meta_data, series = read_tsf_file(path.resolve())"
   ]
  },
  {
   "cell_type": "code",
   "execution_count": 15,
   "metadata": {},
   "outputs": [
    {
     "data": {
      "text/plain": [
       "862"
      ]
     },
     "execution_count": 15,
     "metadata": {},
     "output_type": "execute_result"
    }
   ],
   "source": [
    "len(series[4])"
   ]
  },
  {
   "cell_type": "code",
   "execution_count": null,
   "metadata": {},
   "outputs": [],
   "source": []
  }
 ],
 "metadata": {
  "kernelspec": {
   "display_name": "shad",
   "language": "python",
   "name": "python3"
  },
  "language_info": {
   "codemirror_mode": {
    "name": "ipython",
    "version": 3
   },
   "file_extension": ".py",
   "mimetype": "text/x-python",
   "name": "python",
   "nbconvert_exporter": "python",
   "pygments_lexer": "ipython3",
   "version": "3.10.13"
  }
 },
 "nbformat": 4,
 "nbformat_minor": 2
}
