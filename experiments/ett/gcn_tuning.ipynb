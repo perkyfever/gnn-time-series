{
 "cells": [
  {
   "cell_type": "code",
   "execution_count": 1,
   "metadata": {},
   "outputs": [],
   "source": [
    "import os\n",
    "os.environ[\"CUDA_VISIBLE_DEVICES\"] = \"3\""
   ]
  },
  {
   "cell_type": "code",
   "execution_count": 2,
   "metadata": {},
   "outputs": [],
   "source": [
    "import sys\n",
    "from pathlib import Path\n",
    "sys.path.append(Path(os.getcwd()).parent.parent.as_posix())"
   ]
  },
  {
   "cell_type": "code",
   "execution_count": 3,
   "metadata": {},
   "outputs": [],
   "source": [
    "import math\n",
    "import random\n",
    "import pandas as pd\n",
    "\n",
    "import scipy as sp\n",
    "import numpy as np\n",
    "\n",
    "import seaborn as sns\n",
    "import matplotlib.pyplot as plt\n",
    "\n",
    "import dgl\n",
    "import dgl.nn as dglnn\n",
    "\n",
    "import optuna\n",
    "import networkx as nx\n",
    "\n",
    "import sys\n",
    "import json \n",
    "\n",
    "import torch\n",
    "import torch.nn as nn\n",
    "import torch.nn.functional as F\n",
    "\n",
    "from functools import partial\n",
    "\n",
    "from pathlib import Path\n",
    "from collections import OrderedDict\n",
    "\n",
    "from torch import GradScaler, autocast\n",
    "from torch.utils.data import Dataset, DataLoader\n",
    "from torch.utils.data._utils.collate import default_collate\n",
    "\n",
    "from tqdm import tqdm\n",
    "from dataset import get_datasets, ETTDataset\n",
    "from graph_features import build_graph, spectral_features, deepwalk_features\n",
    "\n",
    "import warnings\n",
    "warnings.simplefilter(\"ignore\")"
   ]
  },
  {
   "cell_type": "code",
   "execution_count": 4,
   "metadata": {},
   "outputs": [
    {
     "name": "stderr",
     "output_type": "stream",
     "text": [
      "\u001b[34m\u001b[1mwandb\u001b[0m: Using wandb-core as the SDK backend.  Please refer to https://wandb.me/wandb-core for more information.\n",
      "\u001b[34m\u001b[1mwandb\u001b[0m: Currently logged in as: \u001b[33mdteakhperky\u001b[0m (\u001b[33mdteakhperky-higher-school-of-economics\u001b[0m) to \u001b[32mhttps://api.wandb.ai\u001b[0m. Use \u001b[1m`wandb login --relogin`\u001b[0m to force relogin\n"
     ]
    },
    {
     "data": {
      "text/plain": [
       "True"
      ]
     },
     "execution_count": 4,
     "metadata": {},
     "output_type": "execute_result"
    }
   ],
   "source": [
    "import wandb\n",
    "wandb.login()"
   ]
  },
  {
   "cell_type": "code",
   "execution_count": 5,
   "metadata": {},
   "outputs": [],
   "source": [
    "def seed_everything(seed=0xBAD5EED):\n",
    "    random.seed(seed)\n",
    "    os.environ['PYTHONHASHSEED'] = str(seed)\n",
    "    np.random.seed(seed)\n",
    "    torch.manual_seed(seed)\n",
    "    torch.cuda.manual_seed(seed)\n",
    "    torch.backends.cudnn.deterministic = True\n",
    "    torch.backends.cudnn.benchmark = True\n",
    "\n",
    "    generator = torch.Generator()\n",
    "    generator.manual_seed(seed)\n",
    "\n",
    "    if torch.cuda.is_available():\n",
    "        torch.cuda.manual_seed_all(seed)"
   ]
  },
  {
   "cell_type": "code",
   "execution_count": 6,
   "metadata": {},
   "outputs": [],
   "source": [
    "TOTAL_NUM_NODES = 7\n",
    "TGT_COMP_IDX = TOTAL_NUM_NODES - 1\n",
    "\n",
    "ALPHA = 0.05\n",
    "HORIZON_SIZE = 24\n",
    "LOOKBACK_SIZE = 96\n",
    "\n",
    "DATASET_NAME = \"ETTh1.csv\"\n",
    "NODES_EMBEDDINGS_FN = partial(spectral_features, embed_size=TOTAL_NUM_NODES)"
   ]
  },
  {
   "cell_type": "markdown",
   "metadata": {},
   "source": [
    "# Dataset Setup"
   ]
  },
  {
   "cell_type": "code",
   "execution_count": 7,
   "metadata": {},
   "outputs": [],
   "source": [
    "train_ds, val_ds, test_ds = get_datasets(\n",
    "    dataset_name=DATASET_NAME,\n",
    "    lookback_size=LOOKBACK_SIZE,\n",
    "    horizon_size=HORIZON_SIZE\n",
    ")"
   ]
  },
  {
   "cell_type": "code",
   "execution_count": 8,
   "metadata": {},
   "outputs": [],
   "source": [
    "class CustomGraphDataset(Dataset):\n",
    "    def __init__(self, dataset: ETTDataset, alpha: float = 0.05, graph_features_fn=None):\n",
    "        super().__init__()\n",
    "        self.graphs: list[dgl.DGLGraph] = []\n",
    "        self.targets: list[torch.Tensor] = []\n",
    "        self.times: list[torch.Tensor] = []\n",
    "        for idx in tqdm(range(len(dataset)), desc=\"Building graphs\"):\n",
    "            x_time, x_data, y_data = dataset[idx]\n",
    "            graph = build_graph(x_data, alpha=alpha)\n",
    "\n",
    "            if graph_features_fn:\n",
    "                graph_features = graph_features_fn(graph)\n",
    "                graph.ndata[\"h\"] = torch.cat([x_data.T, graph_features], dim=1)\n",
    "            else:\n",
    "                graph.ndata[\"h\"] = x_data.T\n",
    "            \n",
    "            self.targets.append(y_data.T[TGT_COMP_IDX])\n",
    "            self.times.append(x_time)\n",
    "            self.graphs.append(graph)\n",
    "\n",
    "    def __len__(self):\n",
    "        return len(self.graphs)\n",
    "\n",
    "    def __getitem__(self, idx) -> tuple[dgl.DGLGraph, torch.Tensor]:\n",
    "        return self.times[idx], self.graphs[idx], self.targets[idx]"
   ]
  },
  {
   "cell_type": "code",
   "execution_count": 9,
   "metadata": {},
   "outputs": [],
   "source": [
    "def graph_collate_fn(batch):\n",
    "    \"\"\"\n",
    "    Custom collate function for batching DGL graphs.\n",
    "    :param graphs: batch of graphs and targets\n",
    "    :returns: batched graph, batch of targets\n",
    "    \"\"\"\n",
    "    batch_size = len(batch)\n",
    "    times, graphs, targets = zip(*batch)\n",
    "    horizon_size = targets[0].shape[0]\n",
    "    lookback_size, n_features = times[0].shape\n",
    "    times_tensor = torch.zeros((batch_size, lookback_size, n_features))\n",
    "    targets_tensor = torch.zeros((batch_size, horizon_size))\n",
    "    for idx in range(batch_size):\n",
    "        targets_tensor[idx, :] = targets[idx]\n",
    "        times_tensor[idx, :, :] = times[idx]\n",
    "\n",
    "    return times_tensor, dgl.batch(graphs), targets_tensor"
   ]
  },
  {
   "cell_type": "code",
   "execution_count": 10,
   "metadata": {},
   "outputs": [
    {
     "name": "stderr",
     "output_type": "stream",
     "text": [
      "Building graphs: 100%|██████████| 8641/8641 [01:56<00:00, 74.15it/s]\n",
      "Building graphs: 100%|██████████| 2833/2833 [00:38<00:00, 74.35it/s]\n",
      "Building graphs: 100%|██████████| 2761/2761 [00:35<00:00, 77.09it/s]\n"
     ]
    }
   ],
   "source": [
    "train_ds = CustomGraphDataset(train_ds, alpha=ALPHA, graph_features_fn=NODES_EMBEDDINGS_FN)\n",
    "val_ds = CustomGraphDataset(val_ds, alpha=ALPHA, graph_features_fn=NODES_EMBEDDINGS_FN)\n",
    "test_ds = CustomGraphDataset(test_ds, alpha=ALPHA, graph_features_fn=NODES_EMBEDDINGS_FN)"
   ]
  },
  {
   "cell_type": "markdown",
   "metadata": {},
   "source": [
    "# Model setup"
   ]
  },
  {
   "cell_type": "code",
   "execution_count": 11,
   "metadata": {},
   "outputs": [],
   "source": [
    "class GCNBlock(nn.Module):\n",
    "    def __init__(\n",
    "        self,\n",
    "        input_dim: int,\n",
    "        hidden_dim: int,\n",
    "        activation_fn: nn.Module,\n",
    "        residual: bool = True,\n",
    "        dropout: float = 0\n",
    "    ) -> \"GCNBlock\":\n",
    "        super().__init__()\n",
    "        self.dropout = dropout\n",
    "        self.residual = residual\n",
    "        self.input_dim = input_dim\n",
    "        self.hidden_dim = hidden_dim\n",
    "        self.activation_fn = activation_fn\n",
    "\n",
    "        self.gcn = dglnn.GraphConv(\n",
    "            in_feats=self.input_dim,\n",
    "            out_feats=self.hidden_dim\n",
    "        )\n",
    "        self.norm = nn.LayerNorm(self.hidden_dim)\n",
    "        self.act = self.activation_fn()\n",
    "        self.dropout = nn.Dropout(self.dropout)\n",
    "\n",
    "        if self.residual:\n",
    "            self.skip = (\n",
    "                nn.Linear(self.input_dim, self.hidden_dim)\n",
    "                if self.input_dim != self.hidden_dim\n",
    "                else nn.Identity()\n",
    "            )\n",
    "\n",
    "    def forward(self, graph, features):\n",
    "        outputs = self.gcn(graph, features)\n",
    "        outputs = self.norm(outputs)\n",
    "        outputs = self.act(outputs)\n",
    "        outputs = self.dropout(outputs)\n",
    "\n",
    "        if self.residual:\n",
    "            outputs = outputs + self.skip(features)\n",
    "\n",
    "        return outputs"
   ]
  },
  {
   "cell_type": "code",
   "execution_count": 12,
   "metadata": {},
   "outputs": [],
   "source": [
    "class GCNModel(nn.Module):\n",
    "    def __init__(\n",
    "        self,\n",
    "        input_dim: int,\n",
    "        hidden_dim: int,\n",
    "        num_layers: int,\n",
    "        activation_fn: nn.Module,\n",
    "        residual: bool = True,\n",
    "        dropout: float = 0\n",
    "    ) -> \"GCNModel\":\n",
    "        super().__init__()\n",
    "        self.dropout = dropout\n",
    "        self.residual = residual\n",
    "        self.input_dim = input_dim\n",
    "        self.hidden_dim = hidden_dim\n",
    "        self.num_layers = num_layers\n",
    "        self.activation_fn = activation_fn\n",
    "        \n",
    "        self.blocks = nn.ModuleList()\n",
    "        for i in range(num_layers):\n",
    "            cur_input_dim = self.input_dim if i == 0 else self.hidden_dim\n",
    "            self.blocks.append(GCNBlock(\n",
    "                input_dim=cur_input_dim,\n",
    "                hidden_dim=self.hidden_dim,\n",
    "                activation_fn=self.activation_fn,\n",
    "                residual=self.residual,\n",
    "                dropout=self.dropout\n",
    "            ))\n",
    "    \n",
    "    def forward(self, graph, features):\n",
    "        outputs = features\n",
    "        for block in self.blocks:\n",
    "            outputs = block(graph, outputs)\n",
    "        \n",
    "        return outputs"
   ]
  },
  {
   "cell_type": "code",
   "execution_count": 13,
   "metadata": {},
   "outputs": [],
   "source": [
    "class Encoding(nn.Module):\n",
    "    def __init__(self, input_dim: int, output_dim: int):\n",
    "        super().__init__()\n",
    "        self.input_dim = input_dim\n",
    "        self.output_dim = output_dim\n",
    "\n",
    "        weight = torch.zeros(self.input_dim, self.output_dim, requires_grad=False).float()\n",
    "        pos_enc = torch.arange(0, self.input_dim).float().unsqueeze(1)\n",
    "        div_term = torch.exp(torch.arange(0, self.output_dim, 2).float() * -(math.log(10000.0) / self.output_dim))\n",
    "\n",
    "        weight[:, 0::2] = torch.sin(pos_enc * div_term)\n",
    "        weight[:, 1::2] = torch.cos(pos_enc * div_term)\n",
    "\n",
    "        self.embeddings = nn.Embedding(self.input_dim, self.output_dim)\n",
    "        self.embeddings.weight = nn.Parameter(weight, requires_grad=False) # not learnable\n",
    "\n",
    "    def forward(self, x):\n",
    "        return self.embeddings(x).detach()\n",
    "\n",
    "class TimeEncoding(nn.Module):\n",
    "    def __init__(self, output_dim: int, learnable: bool = False):\n",
    "        super().__init__()\n",
    "        self.output_dim = output_dim\n",
    "        self.learnable = learnable\n",
    "\n",
    "        Embedding = Encoding if self.learnable else nn.Embedding\n",
    "        self.month_embed = Embedding(13, self.output_dim)\n",
    "        self.weekday_embed = Embedding(7, self.output_dim)\n",
    "        self.day_embed = Embedding(32, self.output_dim)\n",
    "        self.hour_embed = Embedding(24, self.output_dim)\n",
    "        self.minute_embed = Embedding(4, self.output_dim)\n",
    "    \n",
    "    def forward(self, x):\n",
    "        x = x.long()\n",
    "        month = self.month_embed(x[:, 0, 0])\n",
    "        weekday = self.weekday_embed(x[:, 0, 1])\n",
    "        day = self.day_embed(x[:, 0, 2])\n",
    "        hour = self.hour_embed(x[:, 0, 3])\n",
    "        minute = self.minute_embed(x[:, 0, 4])\n",
    "        return month + weekday + day + hour + minute"
   ]
  },
  {
   "cell_type": "code",
   "execution_count": 14,
   "metadata": {},
   "outputs": [],
   "source": [
    "class GraphTSModel(nn.Module):\n",
    "    def __init__(\n",
    "        self,\n",
    "        input_dim: int,\n",
    "        hidden_dim: int,\n",
    "        num_layers: int,\n",
    "        horizon_size: int,\n",
    "        activation_fn: nn.Module,\n",
    "        residual: bool = True,\n",
    "        dropout: float = 0,\n",
    "        time_learnable: bool = False,\n",
    "    ) -> \"GraphTSModel\":\n",
    "        super().__init__()\n",
    "        self.residual = residual\n",
    "        self.input_dim = input_dim\n",
    "        self.hidden_dim = hidden_dim\n",
    "        self.num_layers = num_layers\n",
    "        self.activation_fn = activation_fn\n",
    "        self.dropout = dropout\n",
    "        self.horizon_size = horizon_size\n",
    "        self.time_learnable = time_learnable\n",
    "        \n",
    "        # self.time_emb = TimeEncoding(\n",
    "        #     output_dim=self.input_dim,\n",
    "        #     learnable=self.time_learnable\n",
    "        # )\n",
    "\n",
    "        self.backbone = GCNModel(\n",
    "            input_dim=self.input_dim,\n",
    "            hidden_dim=self.hidden_dim,\n",
    "            num_layers=self.num_layers,\n",
    "            activation_fn=self.activation_fn,\n",
    "            residual=self.residual,\n",
    "            dropout=self.dropout\n",
    "        )\n",
    "\n",
    "        self.head = nn.Linear(self.hidden_dim, self.horizon_size)\n",
    "    \n",
    "    def forward(self, graph, features, time_features):\n",
    "        # time = self.time_emb(time_features)\n",
    "        # time = time.unsqueeze(1).repeat(1, TOTAL_NUM_NODES, 1)\n",
    "        x = features # + time.reshape(-1, features.shape[-1])\n",
    "        outputs = self.backbone(graph, x)\n",
    "        tgt_emb = outputs[TGT_COMP_IDX::TOTAL_NUM_NODES] # extract OT's embeddings\n",
    "        outputs = self.head(tgt_emb)\n",
    "        return outputs"
   ]
  },
  {
   "cell_type": "markdown",
   "metadata": {},
   "source": [
    "# Tuning preparation"
   ]
  },
  {
   "cell_type": "code",
   "execution_count": 15,
   "metadata": {},
   "outputs": [],
   "source": [
    "device = torch.device(\"cuda\" if torch.cuda.is_available() else \"cpu\")"
   ]
  },
  {
   "cell_type": "code",
   "execution_count": 16,
   "metadata": {},
   "outputs": [],
   "source": [
    "def get_dataloaders(config):\n",
    "    train_loader = DataLoader(\n",
    "        dataset=train_ds,\n",
    "        batch_size=config[\"batch_size\"],\n",
    "        num_workers=4,\n",
    "        shuffle=True,\n",
    "        collate_fn=graph_collate_fn,\n",
    "        drop_last=True\n",
    "    )\n",
    "\n",
    "    val_loader = DataLoader(\n",
    "        dataset=val_ds,\n",
    "        batch_size=config[\"batch_size\"],\n",
    "        num_workers=4,\n",
    "        shuffle=False,\n",
    "        collate_fn=graph_collate_fn,\n",
    "        drop_last=True\n",
    "    )\n",
    "\n",
    "    test_loader = DataLoader(\n",
    "        dataset=test_ds,\n",
    "        batch_size=config[\"batch_size\"],\n",
    "        num_workers=4,\n",
    "        shuffle=False,\n",
    "        collate_fn=graph_collate_fn,\n",
    "        drop_last=True\n",
    "    )\n",
    "    \n",
    "    return {\"train\": train_loader, \"val\": val_loader, \"test\": test_loader}"
   ]
  },
  {
   "cell_type": "code",
   "execution_count": 17,
   "metadata": {},
   "outputs": [],
   "source": [
    "def get_activation_fn(config):\n",
    "    if config[\"activation_fn\"] == \"ReLU\":\n",
    "        return nn.ReLU\n",
    "    return nn.LeakyReLU"
   ]
  },
  {
   "cell_type": "code",
   "execution_count": 18,
   "metadata": {},
   "outputs": [],
   "source": [
    "def get_model(config):\n",
    "    return GraphTSModel(\n",
    "        input_dim=config[\"input_dim\"],\n",
    "        hidden_dim=config[\"hidden_dim\"],\n",
    "        num_layers=config[\"num_layers\"],\n",
    "        horizon_size=HORIZON_SIZE,\n",
    "        activation_fn=get_activation_fn(config),\n",
    "        residual=config[\"residual\"],\n",
    "        dropout=config[\"dropout\"],\n",
    "        time_learnable=False\n",
    "    )"
   ]
  },
  {
   "cell_type": "code",
   "execution_count": 19,
   "metadata": {},
   "outputs": [],
   "source": [
    "def get_optimizer(model, config):\n",
    "    if config[\"optimizer\"] == \"Adam\":\n",
    "        return torch.optim.Adam(\n",
    "            model.parameters(),\n",
    "            lr=config[\"learning_rate\"],\n",
    "            weight_decay=config[\"weight_decay\"]\n",
    "        )\n",
    "    if config[\"optimizer\"] == \"SGD\":\n",
    "        return torch.optim.SGD(\n",
    "            model.parameters(),\n",
    "            lr=config[\"learning_rate\"],\n",
    "            weight_decay=config[\"weight_decay\"]\n",
    "        )"
   ]
  },
  {
   "cell_type": "code",
   "execution_count": 20,
   "metadata": {},
   "outputs": [],
   "source": [
    "def get_scheduler(optimizer, config):\n",
    "    return torch.optim.lr_scheduler.ReduceLROnPlateau(\n",
    "        optimizer=optimizer,\n",
    "        mode=\"min\",\n",
    "        factor=config[\"lr_factor\"],\n",
    "        patience=config[\"patience\"]\n",
    "    )"
   ]
  },
  {
   "cell_type": "code",
   "execution_count": 21,
   "metadata": {},
   "outputs": [],
   "source": [
    "def get_criterion(config):\n",
    "    return nn.MSELoss()"
   ]
  },
  {
   "cell_type": "markdown",
   "metadata": {},
   "source": [
    "# Training Steps"
   ]
  },
  {
   "cell_type": "code",
   "execution_count": 22,
   "metadata": {},
   "outputs": [],
   "source": [
    "def train_step(train_loader, model, optimizer, loss_fn):\n",
    "    model.train()\n",
    "    loss_acum = 0\n",
    "    samples_cnt = 0\n",
    "    scaler = GradScaler()\n",
    "    for times, graph, targets in train_loader:\n",
    "        graph = graph.to(device)\n",
    "        times = times.to(device)\n",
    "        targets = targets.to(device)\n",
    "        optimizer.zero_grad()\n",
    "        with autocast(device_type=\"cuda\"):\n",
    "            outputs = model(graph, graph.ndata[\"h\"], times)\n",
    "            loss = loss_fn(outputs, targets)\n",
    "        \n",
    "        scaler.scale(loss).backward()\n",
    "        scaler.step(optimizer)\n",
    "        scaler.update()\n",
    "        loss_acum += targets.shape[0] * loss.item()\n",
    "        samples_cnt += targets.shape[0]\n",
    "        wandb.log({\"train_mse\": loss.item()})\n",
    "    \n",
    "    return {\"loss\": loss_acum / samples_cnt}"
   ]
  },
  {
   "cell_type": "code",
   "execution_count": 23,
   "metadata": {},
   "outputs": [],
   "source": [
    "@torch.inference_mode()\n",
    "def evaluation_step(val_loader, model, loss_fn):\n",
    "    model.eval()\n",
    "    loss_acum = 0\n",
    "    samples_cnt = 0\n",
    "    for times, graph, targets in val_loader:\n",
    "        graph = graph.to(device)\n",
    "        times = times.to(device)\n",
    "        targets = targets.to(device)\n",
    "        outputs = model(graph, graph.ndata[\"h\"], times)\n",
    "        loss = loss_fn(outputs, targets)\n",
    "        loss_acum += targets.shape[0] * loss.item()\n",
    "        samples_cnt += targets.shape[0]\n",
    "        wandb.log({\"val_mse\": loss.item()})\n",
    "\n",
    "    return {\"loss\": loss_acum / samples_cnt}"
   ]
  },
  {
   "cell_type": "code",
   "execution_count": 24,
   "metadata": {},
   "outputs": [],
   "source": [
    "@torch.inference_mode()\n",
    "def test_step(test_loader, model, loss_fn):\n",
    "    model.eval()\n",
    "    loss_acum = 0\n",
    "    samples_cnt = 0\n",
    "    for times, graph, targets in test_loader:\n",
    "        graph = graph.to(device)\n",
    "        times = times.to(device)\n",
    "        targets = targets.to(device)\n",
    "        outputs = model(graph, graph.ndata[\"h\"], times)\n",
    "        loss = loss_fn(outputs, targets)\n",
    "        loss_acum += targets.shape[0] * loss.item()\n",
    "        samples_cnt += targets.shape[0]\n",
    "        wandb.log({\"test_mse\": loss.item()})\n",
    "\n",
    "    return {\"loss\": loss_acum / samples_cnt}"
   ]
  },
  {
   "cell_type": "code",
   "execution_count": 25,
   "metadata": {},
   "outputs": [],
   "source": [
    "def run_experiment(config):\n",
    "    wandb.init(\n",
    "        project=\"gnn-ts\",\n",
    "        group=\"tuning_runs\",\n",
    "        name=\"tuning\",\n",
    "        config=config\n",
    "    )\n",
    "    \n",
    "    seed_everything()\n",
    "\n",
    "    model = get_model(config)\n",
    "    dataloaders = get_dataloaders(config)\n",
    "    optimizer = get_optimizer(model, config)\n",
    "    scheduler = get_scheduler(optimizer, config)\n",
    "    criterion = get_criterion(config)\n",
    "    \n",
    "    report = {\n",
    "        \"train\": [], \"valid\": [], \"test\": [],\n",
    "        \"score\": 1e6, 'epoch': -1\n",
    "    }\n",
    "    \n",
    "    global device\n",
    "    model.to(device)\n",
    "\n",
    "    pbar = tqdm(range(config[\"num_epochs\"]))\n",
    "    pbar.set_description(\"Training\")\n",
    "    \n",
    "    for epoch in pbar:\n",
    "        train_output = train_step(dataloaders[\"train\"], model, optimizer, criterion)\n",
    "        report[\"train\"].append(train_output)\n",
    "\n",
    "        validation_output = evaluation_step(dataloaders[\"val\"], model, criterion)\n",
    "        report[\"valid\"].append(validation_output)\n",
    "\n",
    "        test_output = test_step(dataloaders[\"test\"], model, criterion)\n",
    "        report[\"test\"].append(test_output)\n",
    "        \n",
    "        pbar.set_postfix_str(\n",
    "            f\"[train] loss = {train_output['loss']:.4f}\\t\"\n",
    "            f\"[valid] mse = {validation_output['loss']:.4f}\\t\"\n",
    "            f\"[test]  mse = {test_output['loss']:.4f}\"\n",
    "        )\n",
    "\n",
    "        if validation_output[\"loss\"] < report[\"score\"]:\n",
    "            report[\"score\"] = validation_output[\"loss\"]\n",
    "            report[\"epoch\"] = epoch\n",
    "        \n",
    "        scheduler.step(validation_output[\"loss\"])\n",
    "\n",
    "    model.to(\"cpu\")\n",
    "    wandb.finish()\n",
    "    \n",
    "    return report"
   ]
  },
  {
   "cell_type": "markdown",
   "metadata": {},
   "source": [
    "# Hyperparameters Tuning"
   ]
  },
  {
   "cell_type": "code",
   "execution_count": 26,
   "metadata": {},
   "outputs": [],
   "source": [
    "def propose_config(config, trial):\n",
    "    def propose_hparam_value(hparam_name, obj):\n",
    "        hparam_value = obj\n",
    "        if isinstance(obj, dict):\n",
    "            distribution_type = obj[\"type\"]\n",
    "            distribution_kwargs = dict(filter(lambda p: p[0] != \"type\", obj.items()))\n",
    "            suggest_fn = getattr(trial, f\"suggest_{distribution_type}\")\n",
    "            hparam_value = suggest_fn(hparam_name, **distribution_kwargs)\n",
    "        return hparam_value\n",
    "    \n",
    "    proposal_config = {}\n",
    "    for hparam_name, obj in config.items():\n",
    "        hparam_value = propose_hparam_value(hparam_name, obj)\n",
    "        proposal_config[hparam_name] = hparam_value\n",
    "\n",
    "    return proposal_config\n",
    "\n",
    "def run_tuning(base_config):\n",
    "    def objective(trial: optuna.Trial):\n",
    "        proposal_config = propose_config(base_config, trial)\n",
    "        print(json.dumps(proposal_config, indent=4))\n",
    "        experiment_report = run_experiment(proposal_config)\n",
    "        sys.stdout.flush()\n",
    "        return experiment_report[\"score\"]\n",
    "\n",
    "    study = optuna.create_study(\n",
    "        direction=\"minimize\",\n",
    "        sampler=optuna.samplers.TPESampler(\n",
    "            n_startup_trials=base_config[\"num_startup_trials\"]\n",
    "        )\n",
    "    )\n",
    "    study.optimize(objective, n_trials=base_config[\"num_trials\"])\n",
    "    return study"
   ]
  },
  {
   "cell_type": "code",
   "execution_count": 27,
   "metadata": {},
   "outputs": [],
   "source": [
    "tuning_config = {\n",
    "    \"num_trials\": 1,\n",
    "    \"num_startup_trials\": 15,\n",
    "    \"model\": \"GCN\",\n",
    "    \"alpha\": ALPHA,\n",
    "    \"graph_strategy\": \"local\",\n",
    "    \"lookback_size\": LOOKBACK_SIZE,\n",
    "    \"horizon_size\": HORIZON_SIZE,\n",
    "    \"time_usage\": \"None\",\n",
    "    \"input_dim\": LOOKBACK_SIZE + TOTAL_NUM_NODES,\n",
    "    \"lr_factor\": 0.10,\n",
    "    \"patience\": 5,\n",
    "    \"hidden_dim\": {\n",
    "        \"type\": \"int\",\n",
    "        \"low\": 32,\n",
    "        \"high\": 1024,\n",
    "        \"step\": 1,\n",
    "        \"log\": True\n",
    "    },\n",
    "    \"num_layers\": {\n",
    "        \"type\": \"int\",\n",
    "        \"low\": 1,\n",
    "        \"high\": 8,\n",
    "        \"step\": 1,\n",
    "    },\n",
    "    \"activation_fn\": \"ReLU\",\n",
    "    \"residual\": {\n",
    "        \"type\": \"categorical\",\n",
    "        \"choices\": [False, True]\n",
    "    },\n",
    "    \"batch_size\": {\n",
    "        \"type\": \"int\",\n",
    "        \"low\": 32,\n",
    "        \"high\": 128,\n",
    "        \"step\": 1,\n",
    "        \"log\": True\n",
    "    },\n",
    "    \"num_epochs\": 8,\n",
    "    \"weight_decay\": 0,\n",
    "    \"learning_rate\": {\n",
    "        \"type\": \"float\",\n",
    "        \"low\": 1e-5,\n",
    "        \"high\": 1e-2,\n",
    "        \"log\": True\n",
    "    },\n",
    "    \"scheduler\": \"None\",\n",
    "    \"optimizer\": {\n",
    "        \"type\": \"categorical\",\n",
    "        \"choices\": [\"Adam\", \"SGD\"]\n",
    "    },\n",
    "    \"dropout\": {\n",
    "        \"type\": \"float\",\n",
    "        \"low\": 0.0,\n",
    "        \"high\": 0.35,\n",
    "    },\n",
    "}"
   ]
  },
  {
   "cell_type": "code",
   "execution_count": 28,
   "metadata": {},
   "outputs": [
    {
     "name": "stderr",
     "output_type": "stream",
     "text": [
      "[I 2025-04-18 23:13:01,655] A new study created in memory with name: no-name-49c73963-4766-436a-b336-3223d33e0525\n"
     ]
    },
    {
     "name": "stdout",
     "output_type": "stream",
     "text": [
      "{\n",
      "    \"num_trials\": 1,\n",
      "    \"num_startup_trials\": 15,\n",
      "    \"model\": \"GCN\",\n",
      "    \"alpha\": 0.05,\n",
      "    \"graph_strategy\": \"local\",\n",
      "    \"lookback_size\": 96,\n",
      "    \"horizon_size\": 24,\n",
      "    \"time_usage\": \"None\",\n",
      "    \"input_dim\": 103,\n",
      "    \"lr_factor\": 0.1,\n",
      "    \"patience\": 5,\n",
      "    \"hidden_dim\": 130,\n",
      "    \"num_layers\": 3,\n",
      "    \"activation_fn\": \"ReLU\",\n",
      "    \"residual\": true,\n",
      "    \"batch_size\": 32,\n",
      "    \"num_epochs\": 8,\n",
      "    \"weight_decay\": 0,\n",
      "    \"learning_rate\": 0.007114221120171155,\n",
      "    \"scheduler\": \"None\",\n",
      "    \"optimizer\": \"SGD\",\n",
      "    \"dropout\": 0.22710026312778858\n",
      "}\n"
     ]
    },
    {
     "data": {
      "text/html": [
       "Tracking run with wandb version 0.19.9"
      ],
      "text/plain": [
       "<IPython.core.display.HTML object>"
      ]
     },
     "metadata": {},
     "output_type": "display_data"
    },
    {
     "data": {
      "text/html": [
       "Run data is saved locally in <code>/home/tihonovda/gnn-time-series/experiments/ett/wandb/run-20250418_231301-haevbnbn</code>"
      ],
      "text/plain": [
       "<IPython.core.display.HTML object>"
      ]
     },
     "metadata": {},
     "output_type": "display_data"
    },
    {
     "data": {
      "text/html": [
       "Syncing run <strong><a href='https://wandb.ai/dteakhperky-higher-school-of-economics/gnn-ts/runs/haevbnbn' target=\"_blank\">tuning</a></strong> to <a href='https://wandb.ai/dteakhperky-higher-school-of-economics/gnn-ts' target=\"_blank\">Weights & Biases</a> (<a href='https://wandb.me/developer-guide' target=\"_blank\">docs</a>)<br>"
      ],
      "text/plain": [
       "<IPython.core.display.HTML object>"
      ]
     },
     "metadata": {},
     "output_type": "display_data"
    },
    {
     "data": {
      "text/html": [
       " View project at <a href='https://wandb.ai/dteakhperky-higher-school-of-economics/gnn-ts' target=\"_blank\">https://wandb.ai/dteakhperky-higher-school-of-economics/gnn-ts</a>"
      ],
      "text/plain": [
       "<IPython.core.display.HTML object>"
      ]
     },
     "metadata": {},
     "output_type": "display_data"
    },
    {
     "data": {
      "text/html": [
       " View run at <a href='https://wandb.ai/dteakhperky-higher-school-of-economics/gnn-ts/runs/haevbnbn' target=\"_blank\">https://wandb.ai/dteakhperky-higher-school-of-economics/gnn-ts/runs/haevbnbn</a>"
      ],
      "text/plain": [
       "<IPython.core.display.HTML object>"
      ]
     },
     "metadata": {},
     "output_type": "display_data"
    },
    {
     "name": "stderr",
     "output_type": "stream",
     "text": [
      "Training: 100%|██████████| 8/8 [00:48<00:00,  6.06s/it, [train] loss = 0.2722\t[valid] mse = 0.1654\t[test]  mse = 0.1749]\n",
      "\u001b[34m\u001b[1mwandb\u001b[0m: \u001b[32m\u001b[41mERROR\u001b[0m The nbformat package was not found. It is required to save notebook history.\n"
     ]
    },
    {
     "data": {
      "text/html": [],
      "text/plain": [
       "<IPython.core.display.HTML object>"
      ]
     },
     "metadata": {},
     "output_type": "display_data"
    },
    {
     "data": {
      "text/html": [
       "<br>    <style><br>        .wandb-row {<br>            display: flex;<br>            flex-direction: row;<br>            flex-wrap: wrap;<br>            justify-content: flex-start;<br>            width: 100%;<br>        }<br>        .wandb-col {<br>            display: flex;<br>            flex-direction: column;<br>            flex-basis: 100%;<br>            flex: 1;<br>            padding: 10px;<br>        }<br>    </style><br><div class=\"wandb-row\"><div class=\"wandb-col\"><h3>Run history:</h3><br/><table class=\"wandb\"><tr><td>test_mse</td><td>▄▃▁▃▂▂▁▃▂▂▂▁▁▇▂▂▁▃▂▁▂▅▃█▂▄▄▁▁▂▂▁▁▁▅▂▂▂▆▂</td></tr><tr><td>train_mse</td><td>█▄▃▃▄▃▃▃▃▃▂▃▂▂▂▂▄▂▁▂▃▂▂▁▁▂▁▂▂▂▁▂▁▂▁▁▂▂▂▂</td></tr><tr><td>val_mse</td><td>▂▁▂▃█▁▁▄▂▃▁▁▂▁▁▂▂▁▁▁▂▃▁▁▁▁▂▂▃▁▂▁▁▁▁▁▂▂▁▁</td></tr></table><br/></div><div class=\"wandb-col\"><h3>Run summary:</h3><br/><table class=\"wandb\"><tr><td>test_mse</td><td>0.02378</td></tr><tr><td>train_mse</td><td>0.23126</td></tr><tr><td>val_mse</td><td>0.08679</td></tr></table><br/></div></div>"
      ],
      "text/plain": [
       "<IPython.core.display.HTML object>"
      ]
     },
     "metadata": {},
     "output_type": "display_data"
    },
    {
     "data": {
      "text/html": [
       " View run <strong style=\"color:#cdcd00\">tuning</strong> at: <a href='https://wandb.ai/dteakhperky-higher-school-of-economics/gnn-ts/runs/haevbnbn' target=\"_blank\">https://wandb.ai/dteakhperky-higher-school-of-economics/gnn-ts/runs/haevbnbn</a><br> View project at: <a href='https://wandb.ai/dteakhperky-higher-school-of-economics/gnn-ts' target=\"_blank\">https://wandb.ai/dteakhperky-higher-school-of-economics/gnn-ts</a><br>Synced 5 W&B file(s), 0 media file(s), 0 artifact file(s) and 0 other file(s)"
      ],
      "text/plain": [
       "<IPython.core.display.HTML object>"
      ]
     },
     "metadata": {},
     "output_type": "display_data"
    },
    {
     "data": {
      "text/html": [
       "Find logs at: <code>./wandb/run-20250418_231301-haevbnbn/logs</code>"
      ],
      "text/plain": [
       "<IPython.core.display.HTML object>"
      ]
     },
     "metadata": {},
     "output_type": "display_data"
    },
    {
     "name": "stderr",
     "output_type": "stream",
     "text": [
      "[I 2025-04-18 23:13:53,495] Trial 0 finished with value: 0.16223608296025882 and parameters: {'hidden_dim': 130, 'num_layers': 3, 'residual': True, 'batch_size': 32, 'learning_rate': 0.007114221120171155, 'optimizer': 'SGD', 'dropout': 0.22710026312778858}. Best is trial 0 with value: 0.16223608296025882.\n"
     ]
    },
    {
     "data": {
      "text/plain": [
       "<optuna.study.study.Study at 0x7fa738a83d10>"
      ]
     },
     "execution_count": 28,
     "metadata": {},
     "output_type": "execute_result"
    }
   ],
   "source": [
    "run_tuning(tuning_config)"
   ]
  },
  {
   "cell_type": "code",
   "execution_count": null,
   "metadata": {},
   "outputs": [],
   "source": []
  },
  {
   "cell_type": "code",
   "execution_count": null,
   "metadata": {},
   "outputs": [],
   "source": []
  },
  {
   "cell_type": "code",
   "execution_count": null,
   "metadata": {},
   "outputs": [],
   "source": []
  }
 ],
 "metadata": {
  "kernelspec": {
   "display_name": "graphs",
   "language": "python",
   "name": "python3"
  },
  "language_info": {
   "codemirror_mode": {
    "name": "ipython",
    "version": 3
   },
   "file_extension": ".py",
   "mimetype": "text/x-python",
   "name": "python",
   "nbconvert_exporter": "python",
   "pygments_lexer": "ipython3",
   "version": "3.11.11"
  }
 },
 "nbformat": 4,
 "nbformat_minor": 2
}
