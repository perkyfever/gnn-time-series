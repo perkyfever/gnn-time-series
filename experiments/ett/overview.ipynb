{
 "cells": [
  {
   "cell_type": "code",
   "execution_count": 1,
   "id": "6367cabc",
   "metadata": {},
   "outputs": [],
   "source": [
    "import os\n",
    "os.environ[\"CUDA_VISIBLE_DEVICES\"] = \"0\""
   ]
  },
  {
   "cell_type": "code",
   "execution_count": 2,
   "id": "9cf382a0",
   "metadata": {},
   "outputs": [],
   "source": [
    "import sys\n",
    "from pathlib import Path\n",
    "sys.path.append(Path(os.getcwd()).parent.parent.as_posix())"
   ]
  },
  {
   "cell_type": "code",
   "execution_count": 3,
   "id": "c3195211",
   "metadata": {},
   "outputs": [
    {
     "name": "stderr",
     "output_type": "stream",
     "text": [
      "/home/perkyfever/miniconda3/envs/project/lib/python3.11/site-packages/tqdm/auto.py:21: TqdmWarning: IProgress not found. Please update jupyter and ipywidgets. See https://ipywidgets.readthedocs.io/en/stable/user_install.html\n",
      "  from .autonotebook import tqdm as notebook_tqdm\n"
     ]
    }
   ],
   "source": [
    "import dgl\n",
    "import json\n",
    "\n",
    "import optuna\n",
    "import pickle\n",
    "\n",
    "import torch\n",
    "import torch.nn as nn\n",
    "\n",
    "from functools import partial\n",
    "from itertools import product\n",
    "from torch.utils.data import Dataset, DataLoader\n",
    "\n",
    "from tqdm import tqdm\n",
    "from dataset import get_datasets, ETTDataset\n",
    "\n",
    "from utils import seed_everything\n",
    "from models.gcn import GCNModel\n",
    "\n",
    "from constructor import construct_ess, construct_vanilla, construct_complete\n",
    "from graph_features import spectral_features, deepwalk_features\n",
    "\n",
    "from train import train_step, evaluation_step\n",
    "\n",
    "import warnings\n",
    "warnings.simplefilter(\"ignore\")"
   ]
  },
  {
   "cell_type": "code",
   "execution_count": 4,
   "id": "2d973720",
   "metadata": {},
   "outputs": [],
   "source": [
    "device = torch.device(\"cuda\" if torch.cuda.is_available() else \"cpu\")\n",
    "seed_everything()"
   ]
  },
  {
   "cell_type": "code",
   "execution_count": 21,
   "id": "d3c6d274",
   "metadata": {},
   "outputs": [],
   "source": [
    "with open(\"./spectral_gcn_study_results.pkl\", \"rb\") as f:\n",
    "    gcn_spectral_h1 = pickle.load(f)"
   ]
  },
  {
   "cell_type": "code",
   "execution_count": 22,
   "id": "b0ca8b47",
   "metadata": {},
   "outputs": [
    {
     "data": {
      "text/plain": [
       "{'24_complete': <optuna.study.study.Study at 0x7ed2daf78b90>,\n",
       " '24_ess': <optuna.study.study.Study at 0x7ed315b98410>,\n",
       " '24_vanilla': <optuna.study.study.Study at 0x7ed315bf2bd0>,\n",
       " '48_complete': <optuna.study.study.Study at 0x7ed315a4d450>,\n",
       " '48_ess': <optuna.study.study.Study at 0x7ed315aa3bd0>,\n",
       " '48_vanilla': <optuna.study.study.Study at 0x7ed315b022d0>,\n",
       " '168_complete': <optuna.study.study.Study at 0x7ed315964b50>,\n",
       " '168_ess': <optuna.study.study.Study at 0x7ed3159bb150>,\n",
       " '168_vanilla': <optuna.study.study.Study at 0x7ed31581dad0>,\n",
       " '336_complete': <optuna.study.study.Study at 0x7ed315874650>,\n",
       " '336_ess': <optuna.study.study.Study at 0x7ed3158d7090>,\n",
       " '336_vanilla': <optuna.study.study.Study at 0x7ed315735b50>,\n",
       " '720_complete': <optuna.study.study.Study at 0x7ed315794610>,\n",
       " '720_ess': <optuna.study.study.Study at 0x7ed3157f3090>,\n",
       " '720_vanilla': <optuna.study.study.Study at 0x7ed315659c90>}"
      ]
     },
     "execution_count": 22,
     "metadata": {},
     "output_type": "execute_result"
    }
   ],
   "source": [
    "gcn_spectral_h1"
   ]
  },
  {
   "cell_type": "code",
   "execution_count": 7,
   "id": "1a06e5a3",
   "metadata": {},
   "outputs": [
    {
     "data": {
      "text/plain": [
       "{'hidden_dim': 224,\n",
       " 'num_layers': 3,\n",
       " 'batch_size': 34,\n",
       " 'lr': 0.0031203038451192997,\n",
       " 'dropout': 0.20612435547008157}"
      ]
     },
     "execution_count": 7,
     "metadata": {},
     "output_type": "execute_result"
    }
   ],
   "source": [
    "params = gcn_spectral_h1[\"24_ess\"].best_params\n",
    "params"
   ]
  },
  {
   "cell_type": "code",
   "execution_count": 8,
   "id": "b3e4e146",
   "metadata": {},
   "outputs": [],
   "source": [
    "DATASET_NAME = \"ETTh1.csv\"\n",
    "\n",
    "# LSTF setup\n",
    "LOOKBACK_SIZE = 96\n",
    "HORIZON_SIZE = 24\n",
    "\n",
    "# Graphs setup\n",
    "ALPHA = 0.05\n",
    "GRAPH_CONSTRUCTION_FN = partial(construct_ess, alpha=ALPHA)\n",
    "GRAPH_FEATURES_FN = partial(spectral_features, embed_size=7)\n",
    "\n",
    "# Model setup\n",
    "BATCH_SIZE = params[\"batch_size\"]\n",
    "HIDDEN_DIM = params[\"hidden_dim\"]\n",
    "NUM_LAYERS = params[\"num_layers\"]\n",
    "DROPOUT = params[\"dropout\"]\n",
    "ACTIVATION_FN = nn.ReLU\n",
    "\n",
    "# Train setup\n",
    "NUM_EPOCHS = 20\n",
    "LEARNING_RATE = params[\"num_layers\"]\n",
    "WEIGHT_DECAY = 1e-5\n",
    "PATIENCE = 2\n",
    "LR_FACTOR = 0.5"
   ]
  },
  {
   "cell_type": "code",
   "execution_count": 9,
   "id": "0ffe3719",
   "metadata": {},
   "outputs": [],
   "source": [
    "train_ds, val_ds, test_ds = get_datasets(\n",
    "    dataset_name=\"ETTh1.csv\",\n",
    "    lookback_size=LOOKBACK_SIZE,\n",
    "    horizon_size=HORIZON_SIZE\n",
    ")"
   ]
  },
  {
   "cell_type": "code",
   "execution_count": 10,
   "id": "fb97713e",
   "metadata": {},
   "outputs": [],
   "source": [
    "class DatasetAdapter(Dataset):\n",
    "    def __init__(self, dataset: ETTDataset, graph_construction_fn, graph_features_fn=None):\n",
    "        super().__init__()\n",
    "        self.graphs: list[dgl.DGLGraph] = []\n",
    "        self.targets: list[torch.Tensor] = []\n",
    "        for idx in tqdm(range(len(dataset)), desc=\"Building graphs\"):\n",
    "            x_data, time_data, y_data = dataset[idx]\n",
    "            graph = graph_construction_fn(x_data)\n",
    "\n",
    "            if graph_features_fn:\n",
    "                graph_features = graph_features_fn(graph)\n",
    "                graph.ndata[\"h\"] = torch.cat([x_data.T, graph_features], dim=1)\n",
    "            else:\n",
    "                graph.ndata[\"h\"] = x_data.T\n",
    "            \n",
    "            graph.ndata[\"h\"] = torch.cat([\n",
    "                graph.ndata[\"h\"],\n",
    "                time_data.repeat(graph.number_of_nodes(), 1),\n",
    "            ], dim=1)\n",
    "            \n",
    "            self.targets.append(y_data)\n",
    "            self.graphs.append(graph)\n",
    "\n",
    "    def __len__(self):\n",
    "        return len(self.graphs)\n",
    "\n",
    "    def __getitem__(self, idx) -> tuple[dgl.DGLGraph, torch.Tensor]:\n",
    "        return self.graphs[idx], self.targets[idx]"
   ]
  },
  {
   "cell_type": "code",
   "execution_count": 11,
   "id": "be0f4406",
   "metadata": {},
   "outputs": [],
   "source": [
    "def graph_collate_fn(batch):\n",
    "    \"\"\"\n",
    "    Custom collate function for batching DGL graphs.\n",
    "    :param graphs: batch of graphs and targets\n",
    "    :returns: batched graph, batch of targets\n",
    "    \"\"\"\n",
    "    graphs, targets = zip(*batch)\n",
    "    targets_tensor = torch.stack(targets, dim=0)\n",
    "    return dgl.batch(graphs), targets_tensor"
   ]
  },
  {
   "cell_type": "code",
   "execution_count": 12,
   "id": "49bba89a",
   "metadata": {},
   "outputs": [
    {
     "name": "stderr",
     "output_type": "stream",
     "text": [
      "Building graphs: 100%|██████████| 8522/8522 [01:27<00:00, 96.97it/s] \n",
      "Building graphs: 100%|██████████| 2762/2762 [00:22<00:00, 123.73it/s]\n",
      "Building graphs: 100%|██████████| 2762/2762 [00:23<00:00, 116.14it/s]\n"
     ]
    }
   ],
   "source": [
    "train_adapter_ds = DatasetAdapter(\n",
    "    dataset=train_ds,\n",
    "    graph_construction_fn=GRAPH_CONSTRUCTION_FN,\n",
    "    graph_features_fn=GRAPH_FEATURES_FN\n",
    ")\n",
    "\n",
    "val_adapter_ds = DatasetAdapter(\n",
    "    dataset=val_ds,\n",
    "    graph_construction_fn=GRAPH_CONSTRUCTION_FN,\n",
    "    graph_features_fn=GRAPH_FEATURES_FN\n",
    ")\n",
    "\n",
    "test_adapter_ds = DatasetAdapter(\n",
    "    dataset=test_ds,\n",
    "    graph_construction_fn=GRAPH_CONSTRUCTION_FN,\n",
    "    graph_features_fn=GRAPH_FEATURES_FN\n",
    ")"
   ]
  },
  {
   "cell_type": "code",
   "execution_count": 13,
   "id": "d709e5b2",
   "metadata": {},
   "outputs": [],
   "source": [
    "train_loader = DataLoader(\n",
    "    dataset=train_adapter_ds,\n",
    "    batch_size=BATCH_SIZE,\n",
    "    shuffle=True,\n",
    "    num_workers=4,\n",
    "    collate_fn=graph_collate_fn\n",
    ")\n",
    "\n",
    "val_loader = DataLoader(\n",
    "    dataset=val_adapter_ds,\n",
    "    batch_size=BATCH_SIZE,\n",
    "    shuffle=False,\n",
    "    num_workers=4,\n",
    "    collate_fn=graph_collate_fn\n",
    ")\n",
    "\n",
    "test_loader = DataLoader(\n",
    "    dataset=test_adapter_ds,\n",
    "    batch_size=BATCH_SIZE,\n",
    "    shuffle=False,\n",
    "    num_workers=4,\n",
    "    collate_fn=graph_collate_fn\n",
    ")"
   ]
  },
  {
   "cell_type": "code",
   "execution_count": 14,
   "id": "46adf93c",
   "metadata": {},
   "outputs": [
    {
     "data": {
      "text/plain": [
       "178"
      ]
     },
     "execution_count": 14,
     "metadata": {},
     "output_type": "execute_result"
    }
   ],
   "source": [
    "INPUT_DIM = train_adapter_ds[0][0].ndata[\"h\"].shape[1]\n",
    "INPUT_DIM"
   ]
  },
  {
   "cell_type": "code",
   "execution_count": 15,
   "id": "b1683c91",
   "metadata": {},
   "outputs": [],
   "source": [
    "class GraphTSModel(nn.Module):\n",
    "    def __init__(\n",
    "        self,\n",
    "        input_dim: int,\n",
    "        hidden_dim: int,\n",
    "        num_layers: int,\n",
    "        horizon_size: int,\n",
    "        activation_fn: nn.Module,\n",
    "        dropout: float = 0,\n",
    "    ) -> \"GraphTSModel\":\n",
    "        super().__init__()\n",
    "        self.input_dim = input_dim\n",
    "        self.hidden_dim = hidden_dim\n",
    "        self.num_layers = num_layers\n",
    "        self.activation_fn = activation_fn\n",
    "        self.dropout = dropout\n",
    "        self.horizon_size = horizon_size\n",
    "\n",
    "        self.backbone = GCNModel(\n",
    "            input_dim=self.input_dim,\n",
    "            hidden_dim=self.hidden_dim,\n",
    "            num_layers=self.num_layers,\n",
    "            activation_fn=self.activation_fn,\n",
    "            dropout=self.dropout\n",
    "        )\n",
    "\n",
    "        self.head = nn.Linear(self.hidden_dim, self.horizon_size)\n",
    "    \n",
    "    def forward(self, graph, features):\n",
    "        x = features\n",
    "        outputs = self.backbone(graph, x)\n",
    "        tgt_emb = outputs[6::7] # extract OT's embeddings\n",
    "        outputs = self.head(tgt_emb)\n",
    "        return outputs"
   ]
  },
  {
   "cell_type": "code",
   "execution_count": 19,
   "id": "b790e9b1",
   "metadata": {},
   "outputs": [],
   "source": [
    "model = GraphTSModel(\n",
    "    input_dim=INPUT_DIM,\n",
    "    hidden_dim=128,\n",
    "    num_layers=1,\n",
    "    horizon_size=HORIZON_SIZE,\n",
    "    activation_fn=ACTIVATION_FN,\n",
    "    dropout=0.1\n",
    ")\n",
    "\n",
    "model = model.to(device)\n",
    "\n",
    "loss_fn = nn.MSELoss()\n",
    "optimizer = torch.optim.AdamW(\n",
    "    model.parameters(),\n",
    "    lr=4e-4,\n",
    "    weight_decay=1e-5\n",
    ")\n",
    "\n",
    "scheduler = torch.optim.lr_scheduler.ReduceLROnPlateau(\n",
    "    optimizer,\n",
    "    mode=\"min\",\n",
    "    factor=0.33,\n",
    "    patience=PATIENCE\n",
    ")\n",
    "\n",
    "# scheduler = None"
   ]
  },
  {
   "cell_type": "code",
   "execution_count": 20,
   "id": "55e85206",
   "metadata": {},
   "outputs": [
    {
     "name": "stderr",
     "output_type": "stream",
     "text": [
      "Training: 100%|██████████| 30/30 [01:13<00:00,  2.46s/it, [valid] mse = 0.9327 [valid] mae = 0.5243 [test]  mse = 0.6383 [test]  mae = 0.4345]\n"
     ]
    }
   ],
   "source": [
    "pbar = tqdm(range(30), desc=\"Training\")\n",
    "\n",
    "for epoch in pbar:\n",
    "    train_loss = train_step(\n",
    "        model=model,\n",
    "        train_loader=train_loader,\n",
    "        optimizer=optimizer,\n",
    "        loss_fn=loss_fn,\n",
    "        device=device\n",
    "    )\n",
    "    val_loss = evaluation_step(\n",
    "        model=model,\n",
    "        loader=val_loader,\n",
    "        device=device\n",
    "    )\n",
    "    test_loss = evaluation_step(\n",
    "        model=model,\n",
    "        loader=test_loader,\n",
    "        device=device\n",
    "    )\n",
    "    \n",
    "    pbar.set_postfix_str(\n",
    "        # f\"[train] mse = {train_output['mse']:.4f} \"\n",
    "        # f\"[train] mae = {train_output['mae']:.4f} \"\n",
    "        f\"[valid] mse = {val_loss['mse'] / 8:.4f} \"\n",
    "        f\"[valid] mae = {val_loss['mae'] / 4:.4f} \"\n",
    "        f\"[test]  mse = {test_loss['mse'] / 8:.4f} \"\n",
    "        f\"[test]  mae = {test_loss['mae'] / 4:.4f}\"\n",
    "    )\n",
    "    if scheduler:\n",
    "        scheduler.step(val_loss[\"mse\"])"
   ]
  },
  {
   "cell_type": "code",
   "execution_count": null,
   "id": "e3d00718",
   "metadata": {},
   "outputs": [],
   "source": []
  },
  {
   "cell_type": "code",
   "execution_count": null,
   "id": "9f2a6f82",
   "metadata": {},
   "outputs": [],
   "source": []
  },
  {
   "cell_type": "code",
   "execution_count": null,
   "id": "c490e391",
   "metadata": {},
   "outputs": [],
   "source": []
  }
 ],
 "metadata": {
  "kernelspec": {
   "display_name": "project",
   "language": "python",
   "name": "python3"
  },
  "language_info": {
   "codemirror_mode": {
    "name": "ipython",
    "version": 3
   },
   "file_extension": ".py",
   "mimetype": "text/x-python",
   "name": "python",
   "nbconvert_exporter": "python",
   "pygments_lexer": "ipython3",
   "version": "3.11.11"
  }
 },
 "nbformat": 4,
 "nbformat_minor": 5
}
