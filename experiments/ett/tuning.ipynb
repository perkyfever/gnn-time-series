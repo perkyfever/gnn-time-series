{
 "cells": [
  {
   "cell_type": "code",
   "execution_count": 1,
   "metadata": {},
   "outputs": [],
   "source": [
    "import os\n",
    "os.environ[\"CUDA_VISIBLE_DEVICES\"] = \"0\""
   ]
  },
  {
   "cell_type": "code",
   "execution_count": 2,
   "metadata": {},
   "outputs": [],
   "source": [
    "import sys\n",
    "from pathlib import Path\n",
    "sys.path.append(Path(os.getcwd()).parent.parent.as_posix())"
   ]
  },
  {
   "cell_type": "code",
   "execution_count": 3,
   "metadata": {},
   "outputs": [
    {
     "name": "stderr",
     "output_type": "stream",
     "text": [
      "/home/perkyfever/miniconda3/envs/project/lib/python3.11/site-packages/tqdm/auto.py:21: TqdmWarning: IProgress not found. Please update jupyter and ipywidgets. See https://ipywidgets.readthedocs.io/en/stable/user_install.html\n",
      "  from .autonotebook import tqdm as notebook_tqdm\n"
     ]
    }
   ],
   "source": [
    "import seaborn as sns\n",
    "import matplotlib.pyplot as plt\n",
    "\n",
    "import dgl\n",
    "import dgl.nn as dglnn\n",
    "\n",
    "import optuna\n",
    "\n",
    "import torch\n",
    "import torch.nn as nn\n",
    "import torch.nn.functional as F\n",
    "\n",
    "from functools import partial\n",
    "from collections import OrderedDict\n",
    "\n",
    "from torch import GradScaler, autocast\n",
    "from torch.utils.data import Dataset, DataLoader\n",
    "\n",
    "from tqdm import tqdm\n",
    "from dataset import get_datasets, ETTDataset\n",
    "\n",
    "from utils import seed_everything\n",
    "from models.gcn import GCNModel\n",
    "\n",
    "from constructor import construct_ess, construct_vanilla, construct_complete\n",
    "from graph_features import spectral_features, deepwalk_features\n",
    "\n",
    "from train import train_step, evaluation_step\n",
    "\n",
    "import warnings\n",
    "warnings.simplefilter(\"ignore\")"
   ]
  },
  {
   "cell_type": "code",
   "execution_count": 4,
   "metadata": {},
   "outputs": [],
   "source": [
    "device = torch.device(\"cuda\" if torch.cuda.is_available() else \"cpu\")\n",
    "seed_everything()"
   ]
  },
  {
   "cell_type": "markdown",
   "metadata": {},
   "source": [
    "# Config"
   ]
  },
  {
   "cell_type": "code",
   "execution_count": 45,
   "metadata": {},
   "outputs": [],
   "source": [
    "# LSTF setup\n",
    "LOOKBACK_SIZE = 96\n",
    "HORIZON_SIZE = 168\n",
    "\n",
    "# Graphs setup\n",
    "GRAPH_CONSTRUCTION_FN = partial(construct_ess, alpha=0.05)\n",
    "GRAPH_FEATURES_FN = partial(spectral_features, embed_size=7)\n",
    "\n",
    "# Model setup\n",
    "BATCH_SIZE = 64\n",
    "HIDDEN_DIM = 256\n",
    "NUM_LAYERS = 2\n",
    "DROPOUT = 0.50\n",
    "NUM_HEADS = 2\n",
    "ACTIVATION_FN = nn.ReLU\n",
    "\n",
    "# Train setup\n",
    "NUM_EPOCHS = 20\n",
    "LEARNING_RATE = 1e-3\n",
    "WEIGHT_DECAY = 1e-5\n",
    "PATIENCE = 2\n",
    "LR_FACTOR = 0.5"
   ]
  },
  {
   "cell_type": "markdown",
   "metadata": {},
   "source": [
    "# Dataset"
   ]
  },
  {
   "cell_type": "code",
   "execution_count": 6,
   "metadata": {},
   "outputs": [],
   "source": [
    "train_ds, val_ds, test_ds = get_datasets(\n",
    "    dataset_name=\"ETTh1.csv\",\n",
    "    lookback_size=LOOKBACK_SIZE,\n",
    "    horizon_size=HORIZON_SIZE\n",
    ")"
   ]
  },
  {
   "cell_type": "code",
   "execution_count": 7,
   "metadata": {},
   "outputs": [],
   "source": [
    "class DatasetAdapter(Dataset):\n",
    "    def __init__(self, dataset: ETTDataset, graph_construction_fn, graph_features_fn=None):\n",
    "        super().__init__()\n",
    "        self.graphs: list[dgl.DGLGraph] = []\n",
    "        self.targets: list[torch.Tensor] = []\n",
    "        for idx in tqdm(range(len(dataset)), desc=\"Building graphs\"):\n",
    "            x_data, time_data, y_data = dataset[idx]\n",
    "            graph = graph_construction_fn(x_data)\n",
    "\n",
    "            if graph_features_fn:\n",
    "                graph_features = graph_features_fn(graph)\n",
    "                graph.ndata[\"h\"] = torch.cat([x_data.T, graph_features], dim=1)\n",
    "            else:\n",
    "                graph.ndata[\"h\"] = x_data.T\n",
    "            \n",
    "            graph.ndata[\"h\"] = torch.cat([\n",
    "                graph.ndata[\"h\"],\n",
    "                time_data.repeat(graph.number_of_nodes(), 1),\n",
    "            ], dim=1)\n",
    "            \n",
    "            self.targets.append(y_data)\n",
    "            self.graphs.append(graph)\n",
    "\n",
    "    def __len__(self):\n",
    "        return len(self.graphs)\n",
    "\n",
    "    def __getitem__(self, idx) -> tuple[dgl.DGLGraph, torch.Tensor]:\n",
    "        return self.graphs[idx], self.targets[idx]"
   ]
  },
  {
   "cell_type": "code",
   "execution_count": 8,
   "metadata": {},
   "outputs": [],
   "source": [
    "def graph_collate_fn(batch):\n",
    "    \"\"\"\n",
    "    Custom collate function for batching DGL graphs.\n",
    "    :param graphs: batch of graphs and targets\n",
    "    :returns: batched graph, batch of targets\n",
    "    \"\"\"\n",
    "    graphs, targets = zip(*batch)\n",
    "    targets_tensor = torch.stack(targets, dim=0)\n",
    "    return dgl.batch(graphs), targets_tensor"
   ]
  },
  {
   "cell_type": "code",
   "execution_count": 9,
   "metadata": {},
   "outputs": [
    {
     "name": "stderr",
     "output_type": "stream",
     "text": [
      "Building graphs:   0%|          | 0/8378 [00:00<?, ?it/s]"
     ]
    },
    {
     "name": "stderr",
     "output_type": "stream",
     "text": [
      "Building graphs: 100%|██████████| 8378/8378 [01:29<00:00, 93.84it/s] \n",
      "Building graphs: 100%|██████████| 2618/2618 [00:28<00:00, 93.20it/s] \n",
      "Building graphs: 100%|██████████| 2618/2618 [00:26<00:00, 97.68it/s] \n"
     ]
    }
   ],
   "source": [
    "train_adapter_ds = DatasetAdapter(\n",
    "    dataset=train_ds,\n",
    "    graph_construction_fn=GRAPH_CONSTRUCTION_FN,\n",
    "    graph_features_fn=GRAPH_FEATURES_FN\n",
    ")\n",
    "\n",
    "val_adapter_ds = DatasetAdapter(\n",
    "    dataset=val_ds,\n",
    "    graph_construction_fn=GRAPH_CONSTRUCTION_FN,\n",
    "    graph_features_fn=GRAPH_FEATURES_FN\n",
    ")\n",
    "\n",
    "test_adapter_ds = DatasetAdapter(\n",
    "    dataset=test_ds,\n",
    "    graph_construction_fn=GRAPH_CONSTRUCTION_FN,\n",
    "    graph_features_fn=GRAPH_FEATURES_FN\n",
    ")"
   ]
  },
  {
   "cell_type": "code",
   "execution_count": 10,
   "metadata": {},
   "outputs": [],
   "source": [
    "train_loader = DataLoader(\n",
    "    dataset=train_adapter_ds,\n",
    "    batch_size=BATCH_SIZE,\n",
    "    shuffle=True,\n",
    "    num_workers=4,\n",
    "    collate_fn=graph_collate_fn\n",
    ")\n",
    "\n",
    "val_loader = DataLoader(\n",
    "    dataset=val_adapter_ds,\n",
    "    batch_size=BATCH_SIZE,\n",
    "    shuffle=False,\n",
    "    num_workers=4,\n",
    "    collate_fn=graph_collate_fn\n",
    ")\n",
    "\n",
    "test_loader = DataLoader(\n",
    "    dataset=test_adapter_ds,\n",
    "    batch_size=BATCH_SIZE,\n",
    "    shuffle=False,\n",
    "    num_workers=4,\n",
    "    collate_fn=graph_collate_fn\n",
    ")"
   ]
  },
  {
   "cell_type": "code",
   "execution_count": 11,
   "metadata": {},
   "outputs": [
    {
     "data": {
      "text/plain": [
       "178"
      ]
     },
     "execution_count": 11,
     "metadata": {},
     "output_type": "execute_result"
    }
   ],
   "source": [
    "INPUT_DIM = next(iter(train_loader))[0].ndata[\"h\"].shape[1]\n",
    "INPUT_DIM"
   ]
  },
  {
   "cell_type": "code",
   "execution_count": 46,
   "metadata": {},
   "outputs": [],
   "source": [
    "class GraphTSModel(nn.Module):\n",
    "    def __init__(\n",
    "        self,\n",
    "        input_dim: int,\n",
    "        hidden_dim: int,\n",
    "        num_layers: int,\n",
    "        horizon_size: int,\n",
    "        activation_fn: nn.Module,\n",
    "        dropout: float = 0,\n",
    "    ) -> \"GraphTSModel\":\n",
    "        super().__init__()\n",
    "        self.input_dim = input_dim\n",
    "        self.hidden_dim = hidden_dim\n",
    "        self.num_layers = num_layers\n",
    "        self.activation_fn = activation_fn\n",
    "        self.dropout = dropout\n",
    "        self.horizon_size = horizon_size\n",
    "\n",
    "        self.backbone = GCNModel(\n",
    "            input_dim=self.input_dim,\n",
    "            hidden_dim=self.hidden_dim,\n",
    "            num_layers=self.num_layers,\n",
    "            activation_fn=self.activation_fn,\n",
    "            dropout=self.dropout\n",
    "        )\n",
    "\n",
    "        self.head = nn.Linear(self.hidden_dim, self.horizon_size)\n",
    "    \n",
    "    def forward(self, graph, features):\n",
    "        x = features\n",
    "        outputs = self.backbone(graph, x)\n",
    "        tgt_emb = outputs[6::7] # extract OT's embeddings\n",
    "        outputs = self.head(tgt_emb)\n",
    "        return outputs"
   ]
  },
  {
   "cell_type": "code",
   "execution_count": 47,
   "metadata": {},
   "outputs": [],
   "source": [
    "model = GraphTSModel(\n",
    "    input_dim=INPUT_DIM,\n",
    "    hidden_dim=HIDDEN_DIM,\n",
    "    num_layers=NUM_LAYERS,\n",
    "    horizon_size=HORIZON_SIZE,\n",
    "    activation_fn=ACTIVATION_FN,\n",
    "    dropout=DROPOUT,\n",
    ")\n",
    "\n",
    "criterion = nn.MSELoss()\n",
    "optimizer = torch.optim.AdamW(model.parameters(), lr=LEARNING_RATE, weight_decay=WEIGHT_DECAY)\n",
    "scheduler = torch.optim.lr_scheduler.ReduceLROnPlateau(optimizer=optimizer, mode=\"min\", factor=LR_FACTOR, patience=PATIENCE)\n",
    "\n",
    "dataloaders = {\n",
    "    \"train\": train_loader,\n",
    "    \"val\": val_loader,\n",
    "    \"test\": test_loader\n",
    "}"
   ]
  },
  {
   "cell_type": "code",
   "execution_count": 48,
   "metadata": {},
   "outputs": [
    {
     "name": "stderr",
     "output_type": "stream",
     "text": [
      "Training: 100%|██████████| 20/20 [01:13<00:00,  3.67s/it, [train] mse = 0.2563 [train] mae = 0.0692 [valid] mse = 1.0087 [valid] mae = 0.1486 [test]  mse = 1.0699 [test]  mae = 0.1571]\n"
     ]
    },
    {
     "data": {
      "text/plain": [
       "GraphTSModel(\n",
       "  (backbone): GCNModel(\n",
       "    (blocks): ModuleList(\n",
       "      (0): GCNBlock(\n",
       "        (gcn): GraphConv(in=178, out=256, normalization=both, activation=None)\n",
       "        (norm): LayerNorm((256,), eps=1e-05, elementwise_affine=True)\n",
       "        (act): ReLU()\n",
       "        (dropout): Dropout(p=0.5, inplace=False)\n",
       "        (skip): Linear(in_features=178, out_features=256, bias=True)\n",
       "      )\n",
       "      (1): GCNBlock(\n",
       "        (gcn): GraphConv(in=256, out=256, normalization=both, activation=None)\n",
       "        (norm): LayerNorm((256,), eps=1e-05, elementwise_affine=True)\n",
       "        (act): ReLU()\n",
       "        (dropout): Dropout(p=0.5, inplace=False)\n",
       "        (skip): Identity()\n",
       "      )\n",
       "    )\n",
       "  )\n",
       "  (head): Linear(in_features=256, out_features=168, bias=True)\n",
       ")"
      ]
     },
     "execution_count": 48,
     "metadata": {},
     "output_type": "execute_result"
    }
   ],
   "source": [
    "model.to(device)\n",
    "\n",
    "report = {\n",
    "    \"train\": [], \"valid\": [], \"test\": [],\n",
    "    \"score\": 1e6, 'epoch': -1\n",
    "}\n",
    "\n",
    "pbar = tqdm(range(NUM_EPOCHS))\n",
    "pbar.set_description(\"Training\")\n",
    "\n",
    "for epoch in pbar:\n",
    "    train_output = train_step(\n",
    "        train_loader=dataloaders[\"train\"],\n",
    "        model=model,\n",
    "        optimizer=optimizer,\n",
    "        loss_fn=criterion,\n",
    "        device=device\n",
    "    )\n",
    "    report[\"train\"].append(train_output)\n",
    "\n",
    "    validation_output = evaluation_step(\n",
    "        loader=dataloaders[\"val\"],\n",
    "        model=model,\n",
    "        device=device\n",
    "    )\n",
    "    report[\"valid\"].append(validation_output)\n",
    "\n",
    "    test_output = evaluation_step(\n",
    "        loader=dataloaders[\"test\"],\n",
    "        model=model,\n",
    "        device=device\n",
    "    )\n",
    "    report[\"test\"].append(test_output)\n",
    "    \n",
    "    pbar.set_postfix_str(\n",
    "        f\"[train] mse = {train_output['mse']:.4f} \"\n",
    "        f\"[train] mae = {train_output['mae']:.4f} \"\n",
    "        f\"[valid] mse = {validation_output['mse']:.4f} \"\n",
    "        f\"[valid] mae = {validation_output['mae']:.4f} \"\n",
    "        f\"[test]  mse = {test_output['mse']:.4f} \"\n",
    "        f\"[test]  mae = {test_output['mae']:.4f}\"\n",
    "    )\n",
    "\n",
    "    if validation_output[\"mse\"] < report[\"score\"]:\n",
    "        report[\"score\"] = validation_output[\"mse\"]\n",
    "        report[\"epoch\"] = epoch\n",
    "    \n",
    "    scheduler.step(validation_output[\"mse\"])\n",
    "\n",
    "model.to(\"cpu\")"
   ]
  },
  {
   "cell_type": "code",
   "execution_count": 49,
   "metadata": {},
   "outputs": [
    {
     "data": {
      "image/png": "[encoded data removed]",
      "text/plain": [
       "<Figure size 640x480 with 1 Axes>"
      ]
     },
     "metadata": {},
     "output_type": "display_data"
    }
   ],
   "source": [
    "plt.plot([metric[\"mse\"] for metric in report[\"train\"]]);"
   ]
  },
  {
   "cell_type": "code",
   "execution_count": 50,
   "metadata": {},
   "outputs": [
    {
     "data": {
      "image/png": "[encoded data removed]",
      "text/plain": [
       "<Figure size 640x480 with 1 Axes>"
      ]
     },
     "metadata": {},
     "output_type": "display_data"
    }
   ],
   "source": [
    "plt.plot([metric[\"mae\"] for metric in report[\"train\"]]);"
   ]
  },
  {
   "cell_type": "code",
   "execution_count": null,
   "metadata": {},
   "outputs": [],
   "source": []
  }
 ],
 "metadata": {
  "kernelspec": {
   "display_name": "project",
   "language": "python",
   "name": "python3"
  },
  "language_info": {
   "codemirror_mode": {
    "name": "ipython",
    "version": 3
   },
   "file_extension": ".py",
   "mimetype": "text/x-python",
   "name": "python",
   "nbconvert_exporter": "python",
   "pygments_lexer": "ipython3",
   "version": "3.11.11"
  }
 },
 "nbformat": 4,
 "nbformat_minor": 2
}
