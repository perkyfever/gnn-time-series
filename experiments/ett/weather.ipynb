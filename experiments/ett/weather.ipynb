{
 "cells": [
  {
   "cell_type": "code",
   "execution_count": 7,
   "id": "6367cabc",
   "metadata": {},
   "outputs": [],
   "source": [
    "import os\n",
    "os.environ[\"CUDA_VISIBLE_DEVICES\"] = \"0\""
   ]
  },
  {
   "cell_type": "code",
   "execution_count": 8,
   "id": "9cf382a0",
   "metadata": {},
   "outputs": [],
   "source": [
    "import sys\n",
    "from pathlib import Path\n",
    "sys.path.append(Path(os.getcwd()).parent.parent.as_posix())"
   ]
  },
  {
   "cell_type": "code",
   "execution_count": 9,
   "id": "c3195211",
   "metadata": {},
   "outputs": [],
   "source": [
    "import dgl\n",
    "import json\n",
    "\n",
    "import optuna\n",
    "import pickle\n",
    "\n",
    "import torch\n",
    "import torch.nn as nn\n",
    "\n",
    "from functools import partial\n",
    "from itertools import product\n",
    "from torch.utils.data import Dataset, DataLoader\n",
    "\n",
    "from tqdm import tqdm\n",
    "from dataset import get_datasets, ETTDataset\n",
    "\n",
    "from utils import seed_everything\n",
    "from models.gcn import GCNModel\n",
    "\n",
    "from constructor import construct_ess, construct_vanilla, construct_complete\n",
    "from graph_features import spectral_features, deepwalk_features\n",
    "\n",
    "from train import train_step, evaluation_step\n",
    "\n",
    "import warnings\n",
    "warnings.simplefilter(\"ignore\")"
   ]
  },
  {
   "cell_type": "code",
   "execution_count": 10,
   "id": "2d973720",
   "metadata": {},
   "outputs": [],
   "source": [
    "device = torch.device(\"cuda\" if torch.cuda.is_available() else \"cpu\")\n",
    "seed_everything()"
   ]
  },
  {
   "cell_type": "code",
   "execution_count": 42,
   "id": "b3e4e146",
   "metadata": {},
   "outputs": [],
   "source": [
    "DATASET_NAME = \"ETTh1.csv\"\n",
    "\n",
    "# LSTF setup\n",
    "LOOKBACK_SIZE = 96\n",
    "HORIZON_SIZE = 24\n",
    "\n",
    "# Graphs setup\n",
    "ALPHA = 0.05\n",
    "GRAPH_CONSTRUCTION_FN = partial(construct_ess, alpha=ALPHA)\n",
    "GRAPH_FEATURES_FN = partial(spectral_features, embed_size=21)\n",
    "\n",
    "# Model setup\n",
    "BATCH_SIZE = 32\n",
    "HIDDEN_DIM = None\n",
    "NUM_LAYERS = None\n",
    "DROPOUT = None\n",
    "ACTIVATION_FN = nn.ReLU\n",
    "\n",
    "# Train setup\n",
    "NUM_EPOCHS = 20\n",
    "LEARNING_RATE = 1e-3\n",
    "WEIGHT_DECAY = 1e-5\n",
    "PATIENCE = 2\n",
    "LR_FACTOR = 0.5"
   ]
  },
  {
   "cell_type": "code",
   "execution_count": 43,
   "id": "0ffe3719",
   "metadata": {},
   "outputs": [],
   "source": [
    "train_ds, val_ds, test_ds = get_datasets(\n",
    "    dataset_name=\"weather.npy\",\n",
    "    lookback_size=LOOKBACK_SIZE,\n",
    "    horizon_size=HORIZON_SIZE\n",
    ")"
   ]
  },
  {
   "cell_type": "code",
   "execution_count": 47,
   "id": "fb97713e",
   "metadata": {},
   "outputs": [],
   "source": [
    "class DatasetAdapter(Dataset):\n",
    "    def __init__(self, dataset: ETTDataset, graph_construction_fn, graph_features_fn=None):\n",
    "        super().__init__()\n",
    "        self.graphs: list[dgl.DGLGraph] = []\n",
    "        self.targets: list[torch.Tensor] = []\n",
    "        for idx in tqdm(range(len(dataset)), desc=\"Building graphs\"):\n",
    "            x_data, y_data = dataset[idx]\n",
    "            graph = graph_construction_fn(x_data)\n",
    "\n",
    "            if graph_features_fn:\n",
    "                graph_features = graph_features_fn(graph)\n",
    "                graph.ndata[\"h\"] = torch.cat([x_data.T, graph_features], dim=1)\n",
    "            else:\n",
    "                graph.ndata[\"h\"] = x_data.T\n",
    "            \n",
    "            self.targets.append(y_data)\n",
    "            self.graphs.append(graph)\n",
    "\n",
    "    def __len__(self):\n",
    "        return len(self.graphs)\n",
    "\n",
    "    def __getitem__(self, idx) -> tuple[dgl.DGLGraph, torch.Tensor]:\n",
    "        return self.graphs[idx], self.targets[idx]"
   ]
  },
  {
   "cell_type": "code",
   "execution_count": 48,
   "id": "be0f4406",
   "metadata": {},
   "outputs": [],
   "source": [
    "def graph_collate_fn(batch):\n",
    "    \"\"\"\n",
    "    Custom collate function for batching DGL graphs.\n",
    "    :param graphs: batch of graphs and targets\n",
    "    :returns: batched graph, batch of targets\n",
    "    \"\"\"\n",
    "    graphs, targets = zip(*batch)\n",
    "    targets_tensor = torch.stack(targets, dim=0)\n",
    "    return dgl.batch(graphs), targets_tensor"
   ]
  },
  {
   "cell_type": "code",
   "execution_count": 49,
   "id": "49bba89a",
   "metadata": {},
   "outputs": [
    {
     "name": "stderr",
     "output_type": "stream",
     "text": [
      "Building graphs: 100%|██████████| 3677/3677 [04:11<00:00, 14.64it/s]\n",
      "Building graphs: 100%|██████████| 516/516 [00:35<00:00, 14.33it/s]\n",
      "Building graphs: 100%|██████████| 1043/1043 [01:12<00:00, 14.33it/s]\n"
     ]
    }
   ],
   "source": [
    "train_adapter_ds = DatasetAdapter(\n",
    "    dataset=train_ds,\n",
    "    graph_construction_fn=GRAPH_CONSTRUCTION_FN,\n",
    "    graph_features_fn=GRAPH_FEATURES_FN\n",
    ")\n",
    "\n",
    "val_adapter_ds = DatasetAdapter(\n",
    "    dataset=val_ds,\n",
    "    graph_construction_fn=GRAPH_CONSTRUCTION_FN,\n",
    "    graph_features_fn=GRAPH_FEATURES_FN\n",
    ")\n",
    "\n",
    "test_adapter_ds = DatasetAdapter(\n",
    "    dataset=test_ds,\n",
    "    graph_construction_fn=GRAPH_CONSTRUCTION_FN,\n",
    "    graph_features_fn=GRAPH_FEATURES_FN\n",
    ")"
   ]
  },
  {
   "cell_type": "code",
   "execution_count": 23,
   "id": "d709e5b2",
   "metadata": {},
   "outputs": [],
   "source": [
    "train_loader = DataLoader(\n",
    "    dataset=train_adapter_ds,\n",
    "    batch_size=BATCH_SIZE,\n",
    "    shuffle=True,\n",
    "    num_workers=4,\n",
    "    collate_fn=graph_collate_fn\n",
    ")\n",
    "\n",
    "val_loader = DataLoader(\n",
    "    dataset=val_adapter_ds,\n",
    "    batch_size=BATCH_SIZE,\n",
    "    shuffle=False,\n",
    "    num_workers=4,\n",
    "    collate_fn=graph_collate_fn\n",
    ")\n",
    "\n",
    "test_loader = DataLoader(\n",
    "    dataset=test_adapter_ds,\n",
    "    batch_size=BATCH_SIZE,\n",
    "    shuffle=False,\n",
    "    num_workers=4,\n",
    "    collate_fn=graph_collate_fn\n",
    ")"
   ]
  },
  {
   "cell_type": "code",
   "execution_count": 24,
   "id": "46adf93c",
   "metadata": {},
   "outputs": [
    {
     "data": {
      "text/plain": [
       "103"
      ]
     },
     "execution_count": 24,
     "metadata": {},
     "output_type": "execute_result"
    }
   ],
   "source": [
    "INPUT_DIM = train_adapter_ds[0][0].ndata[\"h\"].shape[1]\n",
    "INPUT_DIM"
   ]
  },
  {
   "cell_type": "code",
   "execution_count": 53,
   "id": "b1683c91",
   "metadata": {},
   "outputs": [],
   "source": [
    "class GraphTSModel(nn.Module):\n",
    "    def __init__(\n",
    "        self,\n",
    "        input_dim: int,\n",
    "        hidden_dim: int,\n",
    "        num_layers: int,\n",
    "        horizon_size: int,\n",
    "        activation_fn: nn.Module,\n",
    "        dropout: float = 0,\n",
    "    ) -> \"GraphTSModel\":\n",
    "        super().__init__()\n",
    "        self.input_dim = input_dim\n",
    "        self.hidden_dim = hidden_dim\n",
    "        self.num_layers = num_layers\n",
    "        self.activation_fn = activation_fn\n",
    "        self.dropout = dropout\n",
    "        self.horizon_size = horizon_size\n",
    "\n",
    "        self.backbone = GCNModel(\n",
    "            input_dim=self.input_dim,\n",
    "            hidden_dim=self.hidden_dim,\n",
    "            num_layers=self.num_layers,\n",
    "            activation_fn=self.activation_fn,\n",
    "            dropout=self.dropout\n",
    "        )\n",
    "\n",
    "        self.head = nn.Linear(self.hidden_dim, self.horizon_size)\n",
    "    \n",
    "    def forward(self, graph, features):\n",
    "        x = features\n",
    "        outputs = self.backbone(graph, x)\n",
    "        tgt_emb = outputs[:21]\n",
    "        outputs = self.head(tgt_emb)\n",
    "        return outputs"
   ]
  },
  {
   "cell_type": "code",
   "execution_count": 66,
   "id": "ac345810",
   "metadata": {},
   "outputs": [
    {
     "data": {
      "text/plain": [
       "torch.Size([672, 103])"
      ]
     },
     "execution_count": 66,
     "metadata": {},
     "output_type": "execute_result"
    }
   ],
   "source": [
    "next(iter(train_loader))[0].ndata[\"h\"].shape[1]"
   ]
  },
  {
   "cell_type": "code",
   "execution_count": 55,
   "id": "b790e9b1",
   "metadata": {},
   "outputs": [],
   "source": [
    "model = GraphTSModel(\n",
    "    input_dim=INPUT_DIM,\n",
    "    hidden_dim=128,\n",
    "    num_layers=1,\n",
    "    horizon_size=HORIZON_SIZE,\n",
    "    activation_fn=ACTIVATION_FN,\n",
    "    dropout=0.1\n",
    ")\n",
    "\n",
    "model = model.to(device)\n",
    "\n",
    "loss_fn = nn.MSELoss()\n",
    "optimizer = torch.optim.AdamW(\n",
    "    model.parameters(),\n",
    "    lr=LEARNING_RATE,\n",
    "    weight_decay=1e-5\n",
    ")\n",
    "\n",
    "scheduler = torch.optim.lr_scheduler.ReduceLROnPlateau(\n",
    "    optimizer,\n",
    "    mode=\"min\",\n",
    "    factor=0.33,\n",
    "    patience=PATIENCE\n",
    ")\n",
    "\n",
    "# scheduler = None"
   ]
  },
  {
   "cell_type": "code",
   "execution_count": 56,
   "id": "1fd80ae4",
   "metadata": {},
   "outputs": [],
   "source": [
    "setups = [\n",
    "    {\"horizon_size\": 24, \"hidden_dim\": 128, \"num_layers\": 1, \"dropout\": 0.1},\n",
    "    {\"horizon_size\": 48, \"hidden_dim\": 128, \"num_layers\": 2, \"dropout\": 0.1},\n",
    "    {\"horizon_size\": 96, \"hidden_dim\": 128, \"num_layers\": 2, \"dropout\": 0.1},\n",
    "    {\"horizon_size\": 168, \"hidden_dim\": 128, \"num_layers\": 2, \"dropout\": 0.1},\n",
    "    {\"horizon_size\": 336, \"hidden_dim\": 128, \"num_layers\": 2, \"dropout\": 0.1},\n",
    "]"
   ]
  },
  {
   "cell_type": "code",
   "execution_count": 75,
   "id": "bdcc2cbc",
   "metadata": {},
   "outputs": [],
   "source": [
    "results = []\n",
    "\n",
    "for setup in setups:\n",
    "    model = GraphTSModel(\n",
    "        input_dim=INPUT_DIM,\n",
    "        hidden_dim=128,\n",
    "        num_layers=1,\n",
    "        horizon_size=setup[\"horizon_size\"],\n",
    "        activation_fn=ACTIVATION_FN,\n",
    "        dropout=setup[\"dropout\"]\n",
    "    )\n",
    "\n",
    "    model = model.to(device)\n",
    "    loss_fn = nn.MSELoss()\n",
    "    optimizer = torch.optim.AdamW(\n",
    "        model.parameters(),\n",
    "        lr=LEARNING_RATE,\n",
    "        weight_decay=1e-5\n",
    "    )\n",
    "\n",
    "    scheduler = torch.optim.lr_scheduler.ReduceLROnPlateau(\n",
    "        optimizer,\n",
    "        mode=\"min\",\n",
    "        factor=0.33,\n",
    "        patience=PATIENCE\n",
    "    )\n",
    "    \n",
    "    train_loss = train_step(\n",
    "        model=model,\n",
    "        train_loader=train_loader,\n",
    "        optimizer=optimizer,\n",
    "        loss_fn=loss_fn,\n",
    "        device=device\n",
    "    )\n",
    "    val_loss = evaluation_step(\n",
    "        model=model,\n",
    "        loader=val_loader,\n",
    "        device=device\n",
    "    )\n",
    "    test_loss = evaluation_step(\n",
    "        model=model,\n",
    "        loader=test_loader,\n",
    "        device=device\n",
    "    )\n",
    "        \n",
    "    results[setup[\"horizon_size\"]] = {\n",
    "        \"test_mse\": test_loss[\"mse\"],\n",
    "        \"test_mae\": test_loss[\"mae\"],   \n",
    "    }\n",
    "    \n",
    "    if scheduler:\n",
    "        scheduler.step(val_loss[\"mse\"])"
   ]
  },
  {
   "cell_type": "code",
   "execution_count": 77,
   "id": "e3d00718",
   "metadata": {},
   "outputs": [
    {
     "data": {
      "text/plain": [
       "{24: {'test_mse': 0.3416346, 'test_mae': 0.3912535},\n",
       " 48: {'test_mse': 0.3825235, 'test_mae': 0.4553491},\n",
       " 96: {'test_mse': 0.6282355, 'test_mae': 0.5812453},\n",
       " 168: {'test_mse': 0.7124853, 'test_mae': 0.6021241},\n",
       " 336: {'test_mse': 0.8332592, 'test_mae': 0.7225253}}"
      ]
     },
     "execution_count": 77,
     "metadata": {},
     "output_type": "execute_result"
    }
   ],
   "source": [
    "dict(results)"
   ]
  },
  {
   "cell_type": "code",
   "execution_count": null,
   "id": "9f2a6f82",
   "metadata": {},
   "outputs": [],
   "source": []
  },
  {
   "cell_type": "code",
   "execution_count": null,
   "id": "c490e391",
   "metadata": {},
   "outputs": [],
   "source": []
  }
 ],
 "metadata": {
  "kernelspec": {
   "display_name": "project",
   "language": "python",
   "name": "python3"
  },
  "language_info": {
   "codemirror_mode": {
    "name": "ipython",
    "version": 3
   },
   "file_extension": ".py",
   "mimetype": "text/x-python",
   "name": "python",
   "nbconvert_exporter": "python",
   "pygments_lexer": "ipython3",
   "version": "3.11.11"
  }
 },
 "nbformat": 4,
 "nbformat_minor": 5
}
