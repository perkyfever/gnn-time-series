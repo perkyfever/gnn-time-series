{
 "cells": [
  {
   "cell_type": "code",
   "execution_count": 1,
   "metadata": {},
   "outputs": [],
   "source": [
    "import os\n",
    "os.environ[\"CUDA_VISIBLE_DEVICES\"] = \"4\""
   ]
  },
  {
   "cell_type": "code",
   "execution_count": 2,
   "metadata": {},
   "outputs": [],
   "source": [
    "import math\n",
    "import random\n",
    "import pandas as pd\n",
    "\n",
    "import scipy as sp\n",
    "import numpy as np\n",
    "\n",
    "import seaborn as sns\n",
    "import matplotlib.pyplot as plt\n",
    "\n",
    "import dgl\n",
    "import dgl.nn as dglnn\n",
    "\n",
    "import networkx as nx\n",
    "\n",
    "import torch\n",
    "import torch.nn as nn\n",
    "import torch.nn.functional as F\n",
    "\n",
    "from pathlib import Path\n",
    "from collections import OrderedDict\n",
    "\n",
    "from torch import GradScaler, autocast\n",
    "from torch.utils.data import Dataset, DataLoader\n",
    "from torch.utils.data._utils.collate import default_collate\n",
    "\n",
    "from tqdm import tqdm\n",
    "from dataset import ETTDataset, ETT_SPLIT\n",
    "\n",
    "import warnings\n",
    "warnings.simplefilter(\"ignore\")"
   ]
  },
  {
   "cell_type": "code",
   "execution_count": 3,
   "metadata": {},
   "outputs": [
    {
     "name": "stderr",
     "output_type": "stream",
     "text": [
      "\u001b[34m\u001b[1mwandb\u001b[0m: Using wandb-core as the SDK backend.  Please refer to https://wandb.me/wandb-core for more information.\n",
      "\u001b[34m\u001b[1mwandb\u001b[0m: Currently logged in as: \u001b[33mdteakhperky\u001b[0m (\u001b[33mdteakhperky-higher-school-of-economics\u001b[0m) to \u001b[32mhttps://api.wandb.ai\u001b[0m. Use \u001b[1m`wandb login --relogin`\u001b[0m to force relogin\n"
     ]
    },
    {
     "data": {
      "text/plain": [
       "True"
      ]
     },
     "execution_count": 3,
     "metadata": {},
     "output_type": "execute_result"
    }
   ],
   "source": [
    "import wandb\n",
    "wandb.login()"
   ]
  },
  {
   "cell_type": "code",
   "execution_count": 4,
   "metadata": {},
   "outputs": [],
   "source": [
    "%load_ext autoreload\n",
    "%autoreload 2"
   ]
  },
  {
   "cell_type": "code",
   "execution_count": 5,
   "metadata": {},
   "outputs": [],
   "source": [
    "def seed_everything(seed):\n",
    "    random.seed(seed)\n",
    "    os.environ['PYTHONHASHSEED'] = str(seed)\n",
    "    np.random.seed(seed)\n",
    "    torch.manual_seed(seed)\n",
    "    torch.cuda.manual_seed(seed)\n",
    "    torch.backends.cudnn.deterministic = True\n",
    "    torch.backends.cudnn.benchmark = True\n",
    "\n",
    "    generator = torch.Generator()\n",
    "    generator.manual_seed(seed)\n",
    "\n",
    "    if torch.cuda.is_available():\n",
    "        torch.cuda.manual_seed_all(seed)"
   ]
  },
  {
   "cell_type": "code",
   "execution_count": 6,
   "metadata": {},
   "outputs": [
    {
     "data": {
      "text/plain": [
       "device(type='cuda')"
      ]
     },
     "execution_count": 6,
     "metadata": {},
     "output_type": "execute_result"
    }
   ],
   "source": [
    "SEED = 0xBAD5EED\n",
    "seed_everything(SEED)\n",
    "device = torch.device(\"cuda\" if torch.cuda.is_available() else \"cpu\")\n",
    "device"
   ]
  },
  {
   "cell_type": "markdown",
   "metadata": {},
   "source": [
    "# Graph building functions"
   ]
  },
  {
   "cell_type": "code",
   "execution_count": 7,
   "metadata": {},
   "outputs": [],
   "source": [
    "def compute_ess(x_series: np.ndarray, y_series: np.ndarray) -> float:\n",
    "    \"\"\"\n",
    "    Calculates effective sample size for two time series (https://arxiv.org/pdf/2401.02387).\n",
    "    :param x_series: X time series data\n",
    "    :param y_series: Y time series data\n",
    "    :returns: effective sample size\n",
    "    \"\"\"\n",
    "    n = x_series.shape[0]\n",
    "    x_dot = np.diff(x_series)\n",
    "    y_dot = np.diff(y_series)\n",
    "    ess = n * np.sqrt((np.var(x_dot) + np.var(y_dot)) / (2.0 * np.pi))\n",
    "    return ess\n",
    "\n",
    "def correlation_ess_estimation(x_series: np.ndarray, y_series: np.ndarray) -> float:\n",
    "    \"\"\"\n",
    "    Estimates correlation between time series X and Y based on effective sample size (https://arxiv.org/pdf/2401.02387).\n",
    "    :param x_series: X time series data\n",
    "    :param y_series: Y time series data\n",
    "    :returns: test statistic\n",
    "    \"\"\"\n",
    "    n = x_series.shape[0]\n",
    "    r, _ = sp.stats.pearsonr(x_series, y_series)\n",
    "    ess = min(compute_ess(x_series, y_series), n)\n",
    "    return np.sqrt(max(ess - 3, 0)) * np.atanh(r)\n",
    "\n",
    "def ess_adjusted_pvalue_matrix(time_series: np.ndarray) -> np.ndarray:\n",
    "    \"\"\"\n",
    "    Computes a matrix of ESS-adjusted p-values for pairwise correlations between time series components.\n",
    "    The p-values test the null hypothesis that the true correlation is zero, accounting for autocorrelation.\n",
    "    :param time_series: multivariate time series (n_samples, n_components)\n",
    "    :returns: symmetric matrix of p-values of shape (n_components, n_components)\n",
    "    \"\"\"\n",
    "    n_components = time_series.shape[1]\n",
    "    pvalue_matrix = np.zeros((n_components, n_components))\n",
    "    for i in range(n_components):\n",
    "        for j in range(i + 1, n_components):\n",
    "            test_stat = correlation_ess_estimation(time_series[:, i], time_series[:, j])\n",
    "            p_value = 2 * sp.stats.norm.cdf(-np.abs(test_stat))\n",
    "            pvalue_matrix[i, j] = p_value\n",
    "            pvalue_matrix[j, i] = p_value\n",
    "\n",
    "    return pvalue_matrix"
   ]
  },
  {
   "cell_type": "code",
   "execution_count": 8,
   "metadata": {},
   "outputs": [],
   "source": [
    "def build_graph(time_series: np.ndarray, alpha: float = 0.05) -> dgl.graph:\n",
    "    \"\"\"\n",
    "    Constructs graph of time series components based on alpha confidence level.\n",
    "    :param time_series: multivariate time series (n_samples, n_components)\n",
    "    :param alpha: confidence level\n",
    "    :returns: constructed graph of components\n",
    "    \"\"\"\n",
    "    n_components = time_series.shape[1]\n",
    "    pvalues_matrix = ess_adjusted_pvalue_matrix(time_series)\n",
    "    src_nodes, dst_nodes = np.where(pvalues_matrix <= alpha)\n",
    "    return dgl.graph((src_nodes, dst_nodes), num_nodes=n_components)"
   ]
  },
  {
   "cell_type": "markdown",
   "metadata": {},
   "source": [
    "# Dataset setup"
   ]
  },
  {
   "cell_type": "code",
   "execution_count": 9,
   "metadata": {},
   "outputs": [],
   "source": [
    "ALPHA = 0.05\n",
    "HORIZON_SIZE = 24\n",
    "LOOKBACK_SIZE = 96\n",
    "\n",
    "BATCH_SIZE = 64\n",
    "NUM_WORKERS = 4\n",
    "\n",
    "TOTAL_NUM_NODES = 7\n",
    "TGT_COMP_IDX = TOTAL_NUM_NODES - 1\n",
    "\n",
    "DATASET_NAME = \"ETTh1.csv\""
   ]
  },
  {
   "cell_type": "code",
   "execution_count": 10,
   "metadata": {},
   "outputs": [],
   "source": [
    "dataframe = pd.read_csv(Path(os.getcwd()) / \"datasets\" / DATASET_NAME)\n",
    "full_val_ts = dataframe[dataframe.date.between(*ETT_SPLIT.val)].drop(columns=\"date\").values\n",
    "full_test_ts = dataframe[dataframe.date.between(*ETT_SPLIT.test)].drop(columns=\"date\").values\n",
    "full_train_ts = dataframe[dataframe.date.between(*ETT_SPLIT.train)].drop(columns=\"date\").values"
   ]
  },
  {
   "cell_type": "code",
   "execution_count": 11,
   "metadata": {},
   "outputs": [],
   "source": [
    "train_graph = build_graph(full_train_ts, alpha=ALPHA)\n",
    "val_graph = build_graph(full_val_ts, alpha=ALPHA)\n",
    "test_graph = build_graph(full_test_ts, alpha=ALPHA)"
   ]
  },
  {
   "cell_type": "code",
   "execution_count": 12,
   "metadata": {},
   "outputs": [],
   "source": [
    "from dataset import get_datasets\n",
    "\n",
    "train_ds, val_ds, test_ds = get_datasets(\n",
    "    dataset_name=DATASET_NAME,\n",
    "    lookback_size=LOOKBACK_SIZE,\n",
    "    horizon_size=HORIZON_SIZE\n",
    ")"
   ]
  },
  {
   "cell_type": "code",
   "execution_count": 13,
   "metadata": {},
   "outputs": [],
   "source": [
    "import copy\n",
    "\n",
    "class CustomGraphDataset(Dataset):\n",
    "    def __init__(self, dataset: ETTDataset, global_graph: dgl.DGLGraph, alpha: float = 0.05):\n",
    "        super().__init__()\n",
    "        self.graphs: list[dgl.DGLGraph] = []\n",
    "        self.targets: list[torch.Tensor] = []\n",
    "        self.times: list[torch.Tensor] = []\n",
    "        for idx in tqdm(range(len(dataset)), desc=\"Building graphs\"):\n",
    "            x_time, x_data, y_data = dataset[idx]\n",
    "            graph = copy.deepcopy(global_graph)\n",
    "            graph.ndata[\"h\"] = x_data.T\n",
    "            self.targets.append(y_data.T[TGT_COMP_IDX])\n",
    "            self.times.append(x_time)\n",
    "            self.graphs.append(graph)\n",
    "\n",
    "    def __len__(self):\n",
    "        return len(self.graphs)\n",
    "\n",
    "    def __getitem__(self, idx) -> tuple[dgl.DGLGraph, torch.Tensor]:\n",
    "        return self.times[idx], self.graphs[idx], self.targets[idx]"
   ]
  },
  {
   "cell_type": "code",
   "execution_count": 14,
   "metadata": {},
   "outputs": [],
   "source": [
    "def graph_collate_fn(batch):\n",
    "    \"\"\"\n",
    "    Custom collate function for batching DGL graphs.\n",
    "    :param graphs: batch of graphs and targets\n",
    "    :returns: batched graph, batch of targets\n",
    "    \"\"\"\n",
    "    batch_size = len(batch)\n",
    "    times, graphs, targets = zip(*batch)\n",
    "    horizon_size = targets[0].shape[0]\n",
    "    lookback_size, n_features = times[0].shape\n",
    "    times_tensor = torch.zeros((batch_size, lookback_size, n_features))\n",
    "    targets_tensor = torch.zeros((batch_size, horizon_size))\n",
    "    for idx in range(batch_size):\n",
    "        targets_tensor[idx, :] = targets[idx]\n",
    "        times_tensor[idx, :, :] = times[idx]\n",
    "\n",
    "    return times_tensor, dgl.batch(graphs), targets_tensor"
   ]
  },
  {
   "cell_type": "code",
   "execution_count": 15,
   "metadata": {},
   "outputs": [
    {
     "name": "stderr",
     "output_type": "stream",
     "text": [
      "Building graphs:   2%|▏         | 214/8641 [00:00<00:03, 2138.93it/s]"
     ]
    },
    {
     "name": "stderr",
     "output_type": "stream",
     "text": [
      "Building graphs: 100%|██████████| 8641/8641 [00:04<00:00, 1962.06it/s]\n",
      "Building graphs: 100%|██████████| 2833/2833 [00:01<00:00, 1807.65it/s]\n",
      "Building graphs: 100%|██████████| 2761/2761 [00:01<00:00, 2122.04it/s]\n"
     ]
    }
   ],
   "source": [
    "train_ds = CustomGraphDataset(train_ds, global_graph=train_graph, alpha=ALPHA)\n",
    "val_ds = CustomGraphDataset(val_ds, global_graph=val_graph, alpha=ALPHA)\n",
    "test_ds = CustomGraphDataset(test_ds, global_graph=test_graph, alpha=ALPHA)"
   ]
  },
  {
   "cell_type": "code",
   "execution_count": 16,
   "metadata": {},
   "outputs": [],
   "source": [
    "train_loader = DataLoader(\n",
    "    dataset=train_ds,\n",
    "    batch_size=BATCH_SIZE,\n",
    "    num_workers=NUM_WORKERS,\n",
    "    shuffle=True,\n",
    "    collate_fn=graph_collate_fn,\n",
    "    drop_last=True\n",
    ")\n",
    "\n",
    "val_loader = DataLoader(\n",
    "    dataset=val_ds,\n",
    "    batch_size=BATCH_SIZE,\n",
    "    num_workers=NUM_WORKERS,\n",
    "    shuffle=False,\n",
    "    collate_fn=graph_collate_fn,\n",
    "    drop_last=True\n",
    ")\n",
    "\n",
    "test_loader = DataLoader(\n",
    "    dataset=test_ds,\n",
    "    batch_size=BATCH_SIZE,\n",
    "    num_workers=NUM_WORKERS,\n",
    "    shuffle=False,\n",
    "    collate_fn=graph_collate_fn,\n",
    "    drop_last=True\n",
    ")"
   ]
  },
  {
   "cell_type": "markdown",
   "metadata": {},
   "source": [
    "# Visualizations"
   ]
  },
  {
   "cell_type": "code",
   "execution_count": 17,
   "metadata": {},
   "outputs": [],
   "source": [
    "def plot_graph(graph, title=\"Graph illustration\"):\n",
    "    plt.figure(figsize=(8, 5))\n",
    "    plt.title(title + f\" ({graph.num_edges()} edges)\")\n",
    "    g = graph.to_networkx().to_undirected()\n",
    "    pos = nx.spring_layout(g)\n",
    "    node_labels = {idx: label for idx, label in enumerate([\"HUFL\", \"HULL\", \"MUFL\", \"MULL\", \"LUFL\", \"LULL\", \"OT\"])}\n",
    "    node_colors = [\"red\" if i == TGT_COMP_IDX else \"skyblue\" for i in range(graph.num_nodes())]\n",
    "    nx.draw(g, pos, with_labels=True, labels=node_labels, node_color=node_colors, node_size=1000)"
   ]
  },
  {
   "cell_type": "code",
   "execution_count": 18,
   "metadata": {},
   "outputs": [
    {
     "data": {
      "image/png": "[encoded data removed]",
      "text/plain": [
       "<Figure size 800x500 with 1 Axes>"
      ]
     },
     "metadata": {},
     "output_type": "display_data"
    }
   ],
   "source": [
    "plot_graph(train_graph, \"Training Graph\")"
   ]
  },
  {
   "cell_type": "code",
   "execution_count": 19,
   "metadata": {},
   "outputs": [
    {
     "data": {
      "image/png": "[encoded data removed]",
      "text/plain": [
       "<Figure size 800x500 with 1 Axes>"
      ]
     },
     "metadata": {},
     "output_type": "display_data"
    }
   ],
   "source": [
    "plot_graph(val_graph, \"Validation Graph\")"
   ]
  },
  {
   "cell_type": "code",
   "execution_count": 20,
   "metadata": {},
   "outputs": [
    {
     "data": {
      "image/png": "[encoded data removed]",
      "text/plain": [
       "<Figure size 800x500 with 1 Axes>"
      ]
     },
     "metadata": {},
     "output_type": "display_data"
    }
   ],
   "source": [
    "plot_graph(test_graph, \"Test Graph\")"
   ]
  },
  {
   "cell_type": "markdown",
   "metadata": {},
   "source": [
    "# Model Setup"
   ]
  },
  {
   "cell_type": "code",
   "execution_count": 21,
   "metadata": {},
   "outputs": [],
   "source": [
    "class GCNBlock(nn.Module):\n",
    "    def __init__(self, input_dim: int, hidden_dim: int, activation: nn.Module, residual: bool = True, dropout: float = 0):\n",
    "        super().__init__()\n",
    "        self.residual = residual\n",
    "        self.input_dim = input_dim\n",
    "        self.hidden_dim = hidden_dim\n",
    "        self.activation = activation\n",
    "        self.dropout = dropout\n",
    "\n",
    "        self.norm = nn.LayerNorm(input_dim)\n",
    "        self.gcn = dglnn.GraphConv(\n",
    "            in_feats=self.input_dim,\n",
    "            out_feats=self.hidden_dim,\n",
    "            activation=self.activation()\n",
    "        )\n",
    "        self.dropout = nn.Dropout(self.dropout)\n",
    "        if self.residual and self.input_dim != self.hidden_dim:\n",
    "            self.skip = nn.Linear(self.input_dim, self.hidden_dim)\n",
    "        if self.residual and self.input_dim == self.hidden_dim:\n",
    "            self.skip = nn.Identity()\n",
    "\n",
    "    def forward(self, graph, features):\n",
    "        outputs = self.norm(features)\n",
    "        outputs = self.gcn(graph, outputs)\n",
    "        outputs = self.dropout(outputs)\n",
    "        if self.residual:\n",
    "            outputs = outputs + self.skip(features)\n",
    "\n",
    "        return outputs"
   ]
  },
  {
   "cell_type": "code",
   "execution_count": 22,
   "metadata": {},
   "outputs": [],
   "source": [
    "class GCNModel(nn.Module):\n",
    "    def __init__(self, input_dim: int, hidden_dim: int, num_layers: int, activation: nn.Module, residual: bool = True, dropout: float = 0):\n",
    "        super().__init__()\n",
    "        self.residual = residual\n",
    "        self.input_dim = input_dim\n",
    "        self.hidden_dim = hidden_dim\n",
    "        self.num_layers = num_layers\n",
    "        self.activation = activation\n",
    "        self.dropout = dropout\n",
    "        \n",
    "        self.blocks = nn.ModuleList()\n",
    "        for i in range(num_layers):\n",
    "            self.blocks.append(GCNBlock(\n",
    "                input_dim=self.input_dim if i == 0 else self.hidden_dim,\n",
    "                hidden_dim=self.hidden_dim,\n",
    "                activation=self.activation,\n",
    "                residual=self.residual,\n",
    "                dropout=self.dropout\n",
    "            ))\n",
    "    \n",
    "    def forward(self, graph, features):\n",
    "        outputs = features\n",
    "        for block in self.blocks:\n",
    "            outputs = block(graph, outputs)\n",
    "        \n",
    "        return outputs"
   ]
  },
  {
   "cell_type": "code",
   "execution_count": 23,
   "metadata": {},
   "outputs": [],
   "source": [
    "class Encoding(nn.Module):\n",
    "    def __init__(self, input_dim, output_dim):\n",
    "        super().__init__()\n",
    "        self.input_dim = input_dim\n",
    "        self.output_dim = output_dim\n",
    "\n",
    "        weight = torch.zeros(self.input_dim, self.output_dim, requires_grad=False).float()\n",
    "        pos_enc = torch.arange(0, self.input_dim).float().unsqueeze(1)\n",
    "        div_term = torch.exp(torch.arange(0, self.output_dim, 2).float() * -(math.log(10000.0) / self.output_dim))\n",
    "\n",
    "        weight[:, 0::2] = torch.sin(pos_enc * div_term)\n",
    "        weight[:, 1::2] = torch.cos(pos_enc * div_term)\n",
    "\n",
    "        self.embeddings = nn.Embedding(self.input_dim, self.output_dim)\n",
    "        self.embeddings.weight = nn.Parameter(weight, requires_grad=False) # not learnable\n",
    "\n",
    "    def forward(self, x):\n",
    "        return self.embeddings(x).detach()\n",
    "\n",
    "class TimeEncoding(nn.Module):\n",
    "    def __init__(self, output_dim, learnable: bool = False):\n",
    "        super().__init__()\n",
    "        self.output_dim = output_dim\n",
    "        self.learnable = learnable\n",
    "\n",
    "        Embedding = Encoding if self.learnable else nn.Embedding\n",
    "        self.month_embed = Embedding(13, self.output_dim)\n",
    "        self.weekday_embed = Embedding(7, self.output_dim)\n",
    "        self.day_embed = Embedding(32, self.output_dim)\n",
    "        self.hour_embed = Embedding(24, self.output_dim)\n",
    "        self.minute_embed = Embedding(4, self.output_dim)\n",
    "    \n",
    "    def forward(self, x):\n",
    "        x = x.long()\n",
    "        month = self.month_embed(x[:, 0, 0])\n",
    "        weekday = self.weekday_embed(x[:, 0, 1])\n",
    "        day = self.day_embed(x[:, 0, 2])\n",
    "        hour = self.hour_embed(x[:, 0, 3])\n",
    "        minute = self.minute_embed(x[:, 0, 4])\n",
    "        return month + weekday + day + hour + minute"
   ]
  },
  {
   "cell_type": "code",
   "execution_count": 24,
   "metadata": {},
   "outputs": [],
   "source": [
    "class GraphTSModel(nn.Module):\n",
    "    def __init__(\n",
    "        self,\n",
    "        input_dim: int,\n",
    "        hidden_dim: int,\n",
    "        horizon_size: int,\n",
    "        num_layers: int,\n",
    "        activation: nn.Module,\n",
    "        residual: bool = True,\n",
    "        dropout: float = 0,\n",
    "        time_learnable: bool = False,\n",
    "    ):\n",
    "        super().__init__()\n",
    "        self.residual = residual\n",
    "        self.input_dim = input_dim\n",
    "        self.hidden_dim = hidden_dim\n",
    "        self.num_layers = num_layers\n",
    "        self.activation = activation\n",
    "        self.dropout = dropout\n",
    "        self.horizon_size = horizon_size\n",
    "        self.time_learnable = time_learnable\n",
    "        \n",
    "        self.time_emb = TimeEncoding(\n",
    "            output_dim=self.input_dim,\n",
    "            learnable=self.time_learnable\n",
    "        )\n",
    "        \n",
    "        self.backbone = GCNModel(\n",
    "            input_dim=self.input_dim,\n",
    "            hidden_dim=self.hidden_dim,\n",
    "            num_layers=self.num_layers,\n",
    "            activation=self.activation,\n",
    "            residual=self.residual,\n",
    "            dropout=self.dropout\n",
    "        )\n",
    "        self.head = nn.Linear(self.hidden_dim, self.horizon_size)\n",
    "    \n",
    "    def forward(self, graph, features, time_features):\n",
    "        time = self.time_emb(time_features)\n",
    "        time = time.unsqueeze(1).repeat(1, TOTAL_NUM_NODES, 1)\n",
    "        x = features + time.reshape(-1, features.shape[-1])\n",
    "        outputs = self.backbone(graph, x)\n",
    "        tgt_emb = outputs[TGT_COMP_IDX::TOTAL_NUM_NODES] # extract OT's embeddings\n",
    "        outputs = self.head(tgt_emb)\n",
    "        return outputs"
   ]
  },
  {
   "cell_type": "code",
   "execution_count": 25,
   "metadata": {},
   "outputs": [],
   "source": [
    "def test_model_correctness():\n",
    "    times, g, _ = next(iter(test_loader))\n",
    "    model = GraphTSModel(\n",
    "        input_dim=LOOKBACK_SIZE,\n",
    "        hidden_dim=256,\n",
    "        horizon_size=HORIZON_SIZE,\n",
    "        num_layers=3,\n",
    "        activation=nn.ReLU,\n",
    "    )\n",
    "    assert model(g, g.ndata[\"h\"], times).shape[0] == BATCH_SIZE, f\"{model(g, g.ndata['h'], times).shape}\"\n",
    "    assert model(g, g.ndata[\"h\"], times).shape[1] == HORIZON_SIZE, f\"{model(g, g.ndata['h'], times).shape}\"\n",
    "    print(\"Seems to be correct!\")"
   ]
  },
  {
   "cell_type": "code",
   "execution_count": 26,
   "metadata": {},
   "outputs": [
    {
     "name": "stdout",
     "output_type": "stream",
     "text": [
      "Seems to be correct!\n"
     ]
    }
   ],
   "source": [
    "test_model_correctness()"
   ]
  },
  {
   "cell_type": "markdown",
   "metadata": {},
   "source": [
    "# Training setup"
   ]
  },
  {
   "cell_type": "code",
   "execution_count": 27,
   "metadata": {},
   "outputs": [],
   "source": [
    "def train_step(train_loader, model, optimizer, loss_fn):\n",
    "    model.train()\n",
    "    loss_acum = 0\n",
    "    samples_cnt = 0\n",
    "    scaler = GradScaler()\n",
    "    for times, graph, targets in tqdm(train_loader):\n",
    "        graph = graph.to(device)\n",
    "        times = times.to(device)\n",
    "        targets = targets.to(device)\n",
    "        optimizer.zero_grad()\n",
    "        with autocast(device_type=\"cuda\"):\n",
    "            outputs = model(graph, graph.ndata[\"h\"], times)\n",
    "            loss = loss_fn(outputs, targets)\n",
    "        \n",
    "        scaler.scale(loss).backward()\n",
    "        scaler.step(optimizer)\n",
    "        scaler.update()\n",
    "        loss_acum += targets.shape[0] * loss.item()\n",
    "        samples_cnt += targets.shape[0]\n",
    "        wandb.log({\"train_mse\": loss.item()})\n",
    "    \n",
    "    return {\"loss\": loss_acum / samples_cnt}"
   ]
  },
  {
   "cell_type": "code",
   "execution_count": 28,
   "metadata": {},
   "outputs": [],
   "source": [
    "@torch.inference_mode()\n",
    "def evaluation_step(val_loader, model, loss_fn):\n",
    "    model.eval()\n",
    "    loss_acum = 0\n",
    "    samples_cnt = 0\n",
    "    for times, graph, targets in tqdm(val_loader):\n",
    "        graph = graph.to(device)\n",
    "        times = times.to(device)\n",
    "        targets = targets.to(device)\n",
    "        outputs = model(graph, graph.ndata[\"h\"], times)\n",
    "        loss = loss_fn(outputs, targets)\n",
    "        loss_acum += targets.shape[0] * loss.item()\n",
    "        samples_cnt += targets.shape[0]\n",
    "        wandb.log({\"val_mse\": loss.item()})\n",
    "\n",
    "    return {\"loss\": loss_acum / samples_cnt}"
   ]
  },
  {
   "cell_type": "code",
   "execution_count": 29,
   "metadata": {},
   "outputs": [],
   "source": [
    "def train(num_epochs, model, optimizer, scheduler, loss_fn, train_loader, val_loader):\n",
    "    model = model.to(device)\n",
    "    for epoch in range(1, num_epochs + 1):\n",
    "        print(f\"TRAINING EPOCH={epoch}\")\n",
    "\n",
    "        train_output = train_step(\n",
    "            train_loader=train_loader,\n",
    "            model=model,\n",
    "            optimizer=optimizer,\n",
    "            loss_fn=loss_fn\n",
    "        )\n",
    "        val_output = evaluation_step(\n",
    "            val_loader=val_loader,\n",
    "            model=model,\n",
    "            loss_fn=loss_fn\n",
    "        )\n",
    "        \n",
    "        if scheduler is not None:\n",
    "            scheduler.step()\n",
    "\n",
    "        print(f\"Train Loss: {train_output['loss']}\")\n",
    "        print(f\"Validation Loss: {val_output['loss']}\")\n",
    "    \n",
    "    return None"
   ]
  },
  {
   "cell_type": "markdown",
   "metadata": {},
   "source": [
    "# Training"
   ]
  },
  {
   "cell_type": "code",
   "execution_count": 30,
   "metadata": {},
   "outputs": [],
   "source": [
    "g  = next(iter(train_loader))[1]\n",
    "INPUT_DIM = g.ndata[\"h\"].shape[-1]"
   ]
  },
  {
   "cell_type": "code",
   "execution_count": 31,
   "metadata": {},
   "outputs": [
    {
     "data": {
      "text/plain": [
       "'Parameters Number: 0.911M'"
      ]
     },
     "execution_count": 31,
     "metadata": {},
     "output_type": "execute_result"
    }
   ],
   "source": [
    "HIDDEN_DIM = 512\n",
    "NUM_LAYERS = 4\n",
    "RESIDUAL = True\n",
    "ACTIVATION = nn.ReLU\n",
    "LEARNABLE = True\n",
    "DROPOUT = 0.10\n",
    "\n",
    "model = GraphTSModel(\n",
    "    input_dim=INPUT_DIM,\n",
    "    hidden_dim=HIDDEN_DIM,\n",
    "    horizon_size=HORIZON_SIZE,\n",
    "    num_layers=NUM_LAYERS,\n",
    "    activation=ACTIVATION,\n",
    "    residual=RESIDUAL,\n",
    "    time_learnable=LEARNABLE,\n",
    "    dropout=DROPOUT\n",
    ")\n",
    "\n",
    "f\"Parameters Number: {sum(p.numel() for p in model.parameters()) / 1e6:.3f}M\""
   ]
  },
  {
   "cell_type": "code",
   "execution_count": 32,
   "metadata": {},
   "outputs": [],
   "source": [
    "WEIGHT_DECAY = 0.0\n",
    "LEARNING_RATE = 1e-4\n",
    "\n",
    "optimizer = torch.optim.Adam(model.parameters(), lr=LEARNING_RATE, weight_decay=WEIGHT_DECAY)\n",
    "# optimizer = torch.optim.SGD(model.parameters(), lr=LEARNING_RATE, momentum=1e-2, nesterov=True)\n",
    "scheduler = torch.optim.lr_scheduler.StepLR(optimizer, step_size=10, gamma=0.1)\n",
    "# scheduler = None\n",
    "loss_fn = nn.MSELoss()"
   ]
  },
  {
   "cell_type": "code",
   "execution_count": 33,
   "metadata": {},
   "outputs": [
    {
     "data": {
      "text/html": [
       "creating run (0.0s)"
      ],
      "text/plain": [
       "<IPython.core.display.HTML object>"
      ]
     },
     "metadata": {},
     "output_type": "display_data"
    },
    {
     "data": {
      "text/html": [
       "Tracking run with wandb version 0.19.9"
      ],
      "text/plain": [
       "<IPython.core.display.HTML object>"
      ]
     },
     "metadata": {},
     "output_type": "display_data"
    },
    {
     "data": {
      "text/html": [
       "Run data is saved locally in <code>/home/tihonovda/gnn-ts/wandb/run-20250405_162139-k2ju35k9</code>"
      ],
      "text/plain": [
       "<IPython.core.display.HTML object>"
      ]
     },
     "metadata": {},
     "output_type": "display_data"
    },
    {
     "data": {
      "text/html": [
       "Syncing run <strong><a href='https://wandb.ai/dteakhperky-higher-school-of-economics/gnn-ts/runs/k2ju35k9' target=\"_blank\">test</a></strong> to <a href='https://wandb.ai/dteakhperky-higher-school-of-economics/gnn-ts' target=\"_blank\">Weights & Biases</a> (<a href='https://wandb.me/developer-guide' target=\"_blank\">docs</a>)<br>"
      ],
      "text/plain": [
       "<IPython.core.display.HTML object>"
      ]
     },
     "metadata": {},
     "output_type": "display_data"
    },
    {
     "data": {
      "text/html": [
       " View project at <a href='https://wandb.ai/dteakhperky-higher-school-of-economics/gnn-ts' target=\"_blank\">https://wandb.ai/dteakhperky-higher-school-of-economics/gnn-ts</a>"
      ],
      "text/plain": [
       "<IPython.core.display.HTML object>"
      ]
     },
     "metadata": {},
     "output_type": "display_data"
    },
    {
     "data": {
      "text/html": [
       " View run at <a href='https://wandb.ai/dteakhperky-higher-school-of-economics/gnn-ts/runs/k2ju35k9' target=\"_blank\">https://wandb.ai/dteakhperky-higher-school-of-economics/gnn-ts/runs/k2ju35k9</a>"
      ],
      "text/plain": [
       "<IPython.core.display.HTML object>"
      ]
     },
     "metadata": {},
     "output_type": "display_data"
    },
    {
     "data": {
      "text/html": [
       "<button onClick=\"this.nextSibling.style.display='block';this.style.display='none';\">Display W&B run</button><iframe src='https://wandb.ai/dteakhperky-higher-school-of-economics/gnn-ts/runs/k2ju35k9?jupyter=true' style='border:none;width:100%;height:420px;display:none;'></iframe>"
      ],
      "text/plain": [
       "<wandb.sdk.wandb_run.Run at 0x7f69f9f6de90>"
      ]
     },
     "execution_count": 33,
     "metadata": {},
     "output_type": "execute_result"
    }
   ],
   "source": [
    "NUM_EPOCHS = 20\n",
    "\n",
    "wandb.init(\n",
    "    project=\"gnn-ts\",\n",
    "    name=\"test\",\n",
    "    config={\n",
    "        \"graph_strategy\": \"local\",\n",
    "        \"alpha\": ALPHA,\n",
    "        \"model\": \"GCN\",\n",
    "        \"lookback_size\": LOOKBACK_SIZE,\n",
    "        \"horizon_size\": HORIZON_SIZE,\n",
    "        \"time_usage\": \"None\",\n",
    "        \"input_dim\": INPUT_DIM,\n",
    "        \"hidden_dim\": HIDDEN_DIM,\n",
    "        \"num_layers\": NUM_LAYERS,\n",
    "        \"activation\": \"ReLU\",\n",
    "        \"residual\": RESIDUAL,\n",
    "        \"batch_size\": BATCH_SIZE,\n",
    "        \"num_epochs\": NUM_EPOCHS,\n",
    "        \"weight_decay\": WEIGHT_DECAY,\n",
    "        \"learning_rate\": LEARNING_RATE,\n",
    "        \"scheduler\": \"None\",\n",
    "        \"optimizer\": \"AdamW\"\n",
    "    }\n",
    ")"
   ]
  },
  {
   "cell_type": "code",
   "execution_count": 34,
   "metadata": {},
   "outputs": [
    {
     "name": "stdout",
     "output_type": "stream",
     "text": [
      "TRAINING EPOCH=1\n"
     ]
    },
    {
     "name": "stderr",
     "output_type": "stream",
     "text": [
      "100%|██████████| 135/135 [00:04<00:00, 27.64it/s]\n",
      "100%|██████████| 44/44 [00:00<00:00, 47.84it/s]\n"
     ]
    },
    {
     "name": "stdout",
     "output_type": "stream",
     "text": [
      "Train Loss: 38.14155596980342\n",
      "Validation Loss: 8.980125681920486\n",
      "TRAINING EPOCH=2\n"
     ]
    },
    {
     "name": "stderr",
     "output_type": "stream",
     "text": [
      "100%|██████████| 135/135 [00:03<00:00, 42.63it/s]\n",
      "100%|██████████| 44/44 [00:00<00:00, 46.15it/s]\n"
     ]
    },
    {
     "name": "stdout",
     "output_type": "stream",
     "text": [
      "Train Loss: 9.92990952597724\n",
      "Validation Loss: 5.3289247710596435\n",
      "TRAINING EPOCH=3\n"
     ]
    },
    {
     "name": "stderr",
     "output_type": "stream",
     "text": [
      "100%|██████████| 135/135 [00:03<00:00, 41.00it/s]\n",
      "100%|██████████| 44/44 [00:00<00:00, 45.34it/s]\n"
     ]
    },
    {
     "name": "stdout",
     "output_type": "stream",
     "text": [
      "Train Loss: 8.215156120724147\n",
      "Validation Loss: 4.541574474085461\n",
      "TRAINING EPOCH=4\n"
     ]
    },
    {
     "name": "stderr",
     "output_type": "stream",
     "text": [
      "100%|██████████| 135/135 [00:03<00:00, 36.92it/s]\n",
      "100%|██████████| 44/44 [00:00<00:00, 52.60it/s]\n"
     ]
    },
    {
     "name": "stdout",
     "output_type": "stream",
     "text": [
      "Train Loss: 7.483035592679625\n",
      "Validation Loss: 4.400979896838015\n",
      "TRAINING EPOCH=5\n"
     ]
    },
    {
     "name": "stderr",
     "output_type": "stream",
     "text": [
      "100%|██████████| 135/135 [00:03<00:00, 41.98it/s]\n",
      "100%|██████████| 44/44 [00:00<00:00, 54.02it/s]\n"
     ]
    },
    {
     "name": "stdout",
     "output_type": "stream",
     "text": [
      "Train Loss: 7.051743606284813\n",
      "Validation Loss: 4.659810108217326\n",
      "TRAINING EPOCH=6\n"
     ]
    },
    {
     "name": "stderr",
     "output_type": "stream",
     "text": [
      "100%|██████████| 135/135 [00:03<00:00, 42.47it/s]\n",
      "100%|██████████| 44/44 [00:01<00:00, 39.33it/s]\n"
     ]
    },
    {
     "name": "stdout",
     "output_type": "stream",
     "text": [
      "Train Loss: 6.823473227465594\n",
      "Validation Loss: 5.158391051671722\n",
      "TRAINING EPOCH=7\n"
     ]
    },
    {
     "name": "stderr",
     "output_type": "stream",
     "text": [
      "100%|██████████| 135/135 [00:03<00:00, 35.36it/s]\n",
      "100%|██████████| 44/44 [00:01<00:00, 42.42it/s]\n"
     ]
    },
    {
     "name": "stdout",
     "output_type": "stream",
     "text": [
      "Train Loss: 6.668268758279306\n",
      "Validation Loss: 4.021224306388334\n",
      "TRAINING EPOCH=8\n"
     ]
    },
    {
     "name": "stderr",
     "output_type": "stream",
     "text": [
      "100%|██████████| 135/135 [00:03<00:00, 38.38it/s]\n",
      "100%|██████████| 44/44 [00:00<00:00, 51.88it/s]\n"
     ]
    },
    {
     "name": "stdout",
     "output_type": "stream",
     "text": [
      "Train Loss: 6.511575946101436\n",
      "Validation Loss: 4.3984439969062805\n",
      "TRAINING EPOCH=9\n"
     ]
    },
    {
     "name": "stderr",
     "output_type": "stream",
     "text": [
      "100%|██████████| 135/135 [00:03<00:00, 43.57it/s]\n",
      "100%|██████████| 44/44 [00:00<00:00, 51.71it/s]\n"
     ]
    },
    {
     "name": "stdout",
     "output_type": "stream",
     "text": [
      "Train Loss: 6.398009367342349\n",
      "Validation Loss: 4.321078931743449\n",
      "TRAINING EPOCH=10\n"
     ]
    },
    {
     "name": "stderr",
     "output_type": "stream",
     "text": [
      "100%|██████████| 135/135 [00:03<00:00, 37.54it/s]\n",
      "100%|██████████| 44/44 [00:00<00:00, 56.23it/s]\n"
     ]
    },
    {
     "name": "stdout",
     "output_type": "stream",
     "text": [
      "Train Loss: 6.349618964725071\n",
      "Validation Loss: 4.27909137850458\n",
      "TRAINING EPOCH=11\n"
     ]
    },
    {
     "name": "stderr",
     "output_type": "stream",
     "text": [
      "100%|██████████| 135/135 [00:03<00:00, 37.16it/s]\n",
      "100%|██████████| 44/44 [00:00<00:00, 58.71it/s]\n"
     ]
    },
    {
     "name": "stdout",
     "output_type": "stream",
     "text": [
      "Train Loss: 6.171474947752776\n",
      "Validation Loss: 4.310308113694191\n",
      "TRAINING EPOCH=12\n"
     ]
    },
    {
     "name": "stderr",
     "output_type": "stream",
     "text": [
      "100%|██████████| 135/135 [00:03<00:00, 38.45it/s]\n",
      "100%|██████████| 44/44 [00:00<00:00, 45.45it/s]\n"
     ]
    },
    {
     "name": "stdout",
     "output_type": "stream",
     "text": [
      "Train Loss: 6.151403494234438\n",
      "Validation Loss: 4.209737275134433\n",
      "TRAINING EPOCH=13\n"
     ]
    },
    {
     "name": "stderr",
     "output_type": "stream",
     "text": [
      "100%|██████████| 135/135 [00:03<00:00, 39.14it/s]\n",
      "100%|██████████| 44/44 [00:00<00:00, 45.39it/s]\n"
     ]
    },
    {
     "name": "stdout",
     "output_type": "stream",
     "text": [
      "Train Loss: 6.148676886381926\n",
      "Validation Loss: 4.401515536687591\n",
      "TRAINING EPOCH=14\n"
     ]
    },
    {
     "name": "stderr",
     "output_type": "stream",
     "text": [
      "100%|██████████| 135/135 [00:03<00:00, 36.63it/s]\n",
      "100%|██████████| 44/44 [00:00<00:00, 54.77it/s]\n"
     ]
    },
    {
     "name": "stdout",
     "output_type": "stream",
     "text": [
      "Train Loss: 6.13674949893245\n",
      "Validation Loss: 4.116218095475977\n",
      "TRAINING EPOCH=15\n"
     ]
    },
    {
     "name": "stderr",
     "output_type": "stream",
     "text": [
      "100%|██████████| 135/135 [00:03<00:00, 44.67it/s]\n",
      "100%|██████████| 44/44 [00:00<00:00, 55.44it/s]\n"
     ]
    },
    {
     "name": "stdout",
     "output_type": "stream",
     "text": [
      "Train Loss: 6.120445760091146\n",
      "Validation Loss: 4.244402958588167\n",
      "TRAINING EPOCH=16\n"
     ]
    },
    {
     "name": "stderr",
     "output_type": "stream",
     "text": [
      "100%|██████████| 135/135 [00:03<00:00, 40.60it/s]\n",
      "100%|██████████| 44/44 [00:00<00:00, 47.79it/s]\n"
     ]
    },
    {
     "name": "stdout",
     "output_type": "stream",
     "text": [
      "Train Loss: 6.112668461269802\n",
      "Validation Loss: 4.149178163571791\n",
      "TRAINING EPOCH=17\n"
     ]
    },
    {
     "name": "stderr",
     "output_type": "stream",
     "text": [
      "100%|██████████| 135/135 [00:03<00:00, 36.75it/s]\n",
      "100%|██████████| 44/44 [00:00<00:00, 59.28it/s]\n"
     ]
    },
    {
     "name": "stdout",
     "output_type": "stream",
     "text": [
      "Train Loss: 6.09897034962972\n",
      "Validation Loss: 4.270514016801661\n",
      "TRAINING EPOCH=18\n"
     ]
    },
    {
     "name": "stderr",
     "output_type": "stream",
     "text": [
      "100%|██████████| 135/135 [00:03<00:00, 40.67it/s]\n",
      "100%|██████████| 44/44 [00:00<00:00, 56.46it/s]\n"
     ]
    },
    {
     "name": "stdout",
     "output_type": "stream",
     "text": [
      "Train Loss: 6.087549795927825\n",
      "Validation Loss: 4.4119036536325105\n",
      "TRAINING EPOCH=19\n"
     ]
    },
    {
     "name": "stderr",
     "output_type": "stream",
     "text": [
      "100%|██████████| 135/135 [00:03<00:00, 35.16it/s]\n",
      "100%|██████████| 44/44 [00:00<00:00, 52.77it/s]\n"
     ]
    },
    {
     "name": "stdout",
     "output_type": "stream",
     "text": [
      "Train Loss: 6.083304521772597\n",
      "Validation Loss: 4.189384655518965\n",
      "TRAINING EPOCH=20\n"
     ]
    },
    {
     "name": "stderr",
     "output_type": "stream",
     "text": [
      "100%|██████████| 135/135 [00:03<00:00, 38.05it/s]\n",
      "100%|██████████| 44/44 [00:00<00:00, 55.33it/s]"
     ]
    },
    {
     "name": "stdout",
     "output_type": "stream",
     "text": [
      "Train Loss: 6.075244320763482\n",
      "Validation Loss: 4.324708518656817\n"
     ]
    },
    {
     "name": "stderr",
     "output_type": "stream",
     "text": [
      "\n"
     ]
    }
   ],
   "source": [
    "train(\n",
    "    num_epochs=NUM_EPOCHS,\n",
    "    model=model,\n",
    "    optimizer=optimizer,\n",
    "    scheduler=scheduler,\n",
    "    loss_fn=loss_fn,\n",
    "    train_loader=train_loader,\n",
    "    val_loader=val_loader,\n",
    ")"
   ]
  },
  {
   "cell_type": "code",
   "execution_count": 35,
   "metadata": {},
   "outputs": [
    {
     "name": "stderr",
     "output_type": "stream",
     "text": [
      "\u001b[34m\u001b[1mwandb\u001b[0m: \u001b[32m\u001b[41mERROR\u001b[0m The nbformat package was not found. It is required to save notebook history.\n"
     ]
    },
    {
     "data": {
      "text/html": [],
      "text/plain": [
       "<IPython.core.display.HTML object>"
      ]
     },
     "metadata": {},
     "output_type": "display_data"
    },
    {
     "data": {
      "text/html": [
       "<br>    <style><br>        .wandb-row {<br>            display: flex;<br>            flex-direction: row;<br>            flex-wrap: wrap;<br>            justify-content: flex-start;<br>            width: 100%;<br>        }<br>        .wandb-col {<br>            display: flex;<br>            flex-direction: column;<br>            flex-basis: 100%;<br>            flex: 1;<br>            padding: 10px;<br>        }<br>    </style><br><div class=\"wandb-row\"><div class=\"wandb-col\"><h3>Run history:</h3><br/><table class=\"wandb\"><tr><td>train_mse</td><td>▇█▄▆▅▂▄▃▃▃▂▂▄▃▅▂▂▂▂▂▂▂▁▂▁▁▄▆▂▃▁▂▃▁▃▂▁▃▂▁</td></tr><tr><td>val_mse</td><td>▃▃▃▂▁▃▅▂▂▃▃▃▂▃▂▄▂▁▁▂▁█▂▂▂▁▂▃▂▄▄█▁▁▂█▂▃▁█</td></tr></table><br/></div><div class=\"wandb-col\"><h3>Run summary:</h3><br/><table class=\"wandb\"><tr><td>train_mse</td><td>5.78677</td></tr><tr><td>val_mse</td><td>0.67496</td></tr></table><br/></div></div>"
      ],
      "text/plain": [
       "<IPython.core.display.HTML object>"
      ]
     },
     "metadata": {},
     "output_type": "display_data"
    },
    {
     "data": {
      "text/html": [
       " View run <strong style=\"color:#cdcd00\">test</strong> at: <a href='https://wandb.ai/dteakhperky-higher-school-of-economics/gnn-ts/runs/k2ju35k9' target=\"_blank\">https://wandb.ai/dteakhperky-higher-school-of-economics/gnn-ts/runs/k2ju35k9</a><br> View project at: <a href='https://wandb.ai/dteakhperky-higher-school-of-economics/gnn-ts' target=\"_blank\">https://wandb.ai/dteakhperky-higher-school-of-economics/gnn-ts</a><br>Synced 5 W&B file(s), 0 media file(s), 0 artifact file(s) and 0 other file(s)"
      ],
      "text/plain": [
       "<IPython.core.display.HTML object>"
      ]
     },
     "metadata": {},
     "output_type": "display_data"
    },
    {
     "data": {
      "text/html": [
       "Find logs at: <code>./wandb/run-20250405_162139-k2ju35k9/logs</code>"
      ],
      "text/plain": [
       "<IPython.core.display.HTML object>"
      ]
     },
     "metadata": {},
     "output_type": "display_data"
    }
   ],
   "source": [
    "wandb.finish()"
   ]
  },
  {
   "cell_type": "markdown",
   "metadata": {},
   "source": [
    "# Inference"
   ]
  },
  {
   "cell_type": "code",
   "execution_count": 36,
   "metadata": {},
   "outputs": [],
   "source": [
    "@torch.inference_mode()\n",
    "def inference(model, test_loader):\n",
    "    model.eval()\n",
    "    loss_acum = 0\n",
    "    samples_cnt = 0\n",
    "    for times, graph, targets in tqdm(test_loader):\n",
    "        graph = graph.to(device)\n",
    "        times = times.to(device)\n",
    "        targets = targets.to(device)\n",
    "        outputs = model(graph, graph.ndata[\"h\"], times)\n",
    "        loss = F.mse_loss(outputs, targets)\n",
    "        loss_acum += targets.shape[0] * loss\n",
    "        samples_cnt += targets.shape[0]\n",
    "    \n",
    "    return loss_acum / samples_cnt"
   ]
  },
  {
   "cell_type": "code",
   "execution_count": 37,
   "metadata": {},
   "outputs": [
    {
     "name": "stderr",
     "output_type": "stream",
     "text": [
      "  0%|          | 0/43 [00:00<?, ?it/s]"
     ]
    },
    {
     "name": "stderr",
     "output_type": "stream",
     "text": [
      "100%|██████████| 43/43 [00:00<00:00, 46.04it/s]\n"
     ]
    },
    {
     "data": {
      "text/plain": [
       "tensor(4.4479, device='cuda:0')"
      ]
     },
     "execution_count": 37,
     "metadata": {},
     "output_type": "execute_result"
    }
   ],
   "source": [
    "inference(model, test_loader)"
   ]
  },
  {
   "cell_type": "code",
   "execution_count": 38,
   "metadata": {},
   "outputs": [
    {
     "name": "stderr",
     "output_type": "stream",
     "text": [
      "  0%|          | 0/44 [00:00<?, ?it/s]"
     ]
    },
    {
     "name": "stderr",
     "output_type": "stream",
     "text": [
      "100%|██████████| 44/44 [00:00<00:00, 53.40it/s]\n"
     ]
    },
    {
     "data": {
      "text/plain": [
       "tensor(4.3247, device='cuda:0')"
      ]
     },
     "execution_count": 38,
     "metadata": {},
     "output_type": "execute_result"
    }
   ],
   "source": [
    "inference(model, val_loader)"
   ]
  },
  {
   "cell_type": "code",
   "execution_count": 39,
   "metadata": {},
   "outputs": [
    {
     "name": "stderr",
     "output_type": "stream",
     "text": [
      "  0%|          | 0/135 [00:00<?, ?it/s]"
     ]
    },
    {
     "name": "stderr",
     "output_type": "stream",
     "text": [
      "100%|██████████| 135/135 [00:02<00:00, 62.75it/s]\n"
     ]
    },
    {
     "data": {
      "text/plain": [
       "tensor(6.0257, device='cuda:0')"
      ]
     },
     "execution_count": 39,
     "metadata": {},
     "output_type": "execute_result"
    }
   ],
   "source": [
    "inference(model, train_loader)"
   ]
  },
  {
   "cell_type": "code",
   "execution_count": null,
   "metadata": {},
   "outputs": [],
   "source": []
  }
 ],
 "metadata": {
  "kernelspec": {
   "display_name": "graphs",
   "language": "python",
   "name": "python3"
  },
  "language_info": {
   "codemirror_mode": {
    "name": "ipython",
    "version": 3
   },
   "file_extension": ".py",
   "mimetype": "text/x-python",
   "name": "python",
   "nbconvert_exporter": "python",
   "pygments_lexer": "ipython3",
   "version": "3.11.11"
  }
 },
 "nbformat": 4,
 "nbformat_minor": 2
}
